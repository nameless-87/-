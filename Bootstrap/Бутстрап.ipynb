{
  "cells": [
    {
      "cell_type": "markdown",
      "metadata": {
        "id": "3egpLaa5A3C_"
      },
      "source": [
        "# Проект Выбор локации для скважины"
      ]
    },
    {
      "cell_type": "markdown",
      "metadata": {
        "id": "ZOY5JksQA3DB"
      },
      "source": [
        "Заказчик исследования - добывающая компания «ГлавРосГосНефть».\n",
        "\n",
        "**Цель проекта** - выбрать регион, в котором следует бурить новую скважину для добычи нефти.\n",
        "\n",
        "Заказчик предоставил пробы нефти в трёх регионах: в каждом 10 000 месторождений, где измерено качество нефти и объём её запасов. Необходимо определить регион, где добыча принесёт наибольшую прибыль. Возможную прибыль и риски следует проанализировать техникой *Bootstrap.*\n",
        "\n",
        "Для достижения указанной цели необходимо осуществить следующие шаги:     \n",
        "1. Изучить предоставленные данные о пробах нефти. Обнаружить и устранить возможные проблемы в данных (дубли, пропуски, аномалии);    \n",
        "2. Определить целевые и входные признаки для разработки модели машинного обучения. Проанализировать характер взаимосвязей между целевыми и входными признаками;     \n",
        "3. Обучить модель и сделать предсказание запасов нефти на валидационной выборке для каждого региона. Размер валидационной выборки - 25% от предоставленного датасета;     \n",
        "4. Выбрать скважины с максимальным значением предсказания, рассчитать для них прибыль на основании предсказанных объемов сырья;     \n",
        "5. Для каждого региона определить среднюю прибыль, 95% доверительный интервал и риск убытков. Убытком считается отрицательное значение прибыли;     \n",
        "6. Определить регион, добыча нефти в котором принесет максимальную прибыль при минимальных рисках.    \n",
        "\n",
        "Также есть ряд условий заказчика, которые необходимо учесть при работе над проектом:\n",
        "- Для обучения модели подходит только линейная регрессия (остальные — недостаточно предсказуемые);     \n",
        "- Качество модели оценивается метрикой RMSE;     \n",
        "- При разведке региона исследуют 500 точек, из которых с помощью машинного обучения выбирают 200 лучших для разработки;     \n",
        "- Бюджет на разработку скважин в регионе — 10 млрд рублей;     \n",
        "- При нынешних ценах один баррель сырья приносит 450 рублей дохода. Доход с каждой единицы продукта составляет 450 тыс. рублей, поскольку объём указан в тысячах баррелей;      \n",
        "- После оценки рисков нужно оставить лишь те регионы, в которых вероятность убытков меньше 2.5%. Среди них выбирают регион с наибольшей средней прибылью.     \n"
      ]
    },
    {
      "cell_type": "markdown",
      "metadata": {
        "id": "iAEELsV2A3DC"
      },
      "source": [
        "**Описание данных**     \n",
        "\n",
        "***Данные геологоразведки для трех регионов*** - файлы geo_data_0.csv, geo_data_1.csv и geo_data_2.csv     \n",
        "*id* — уникальный идентификатор скважины      \n",
        "*f0, f1, f2* — признаки точек (подробное описание отсутствует, но, по информации от заказчика, признаки значимы)     \n",
        "*product* — объём запасов в скважине (тыс. баррелей).\n"
      ]
    },
    {
      "cell_type": "markdown",
      "metadata": {
        "id": "M2HJQtSHA3DC"
      },
      "source": [
        "## 1. Загрузка и подготовка данных"
      ]
    },
    {
      "cell_type": "markdown",
      "metadata": {
        "id": "xlz2MI4FA3DC"
      },
      "source": [
        "### 1.1. Загрузка данных"
      ]
    },
    {
      "cell_type": "code",
      "execution_count": null,
      "metadata": {
        "id": "qkQFPj0TA3DC"
      },
      "outputs": [],
      "source": [
        "import pandas as pd\n",
        "import matplotlib.pyplot as plt\n",
        "import numpy as np\n",
        "import seaborn as sns\n",
        "from sklearn.linear_model import LinearRegression\n",
        "from sklearn.metrics import mean_squared_error\n",
        "from sklearn.model_selection import train_test_split\n",
        "from sklearn.preprocessing import StandardScaler\n",
        "from scipy import stats as st"
      ]
    },
    {
      "cell_type": "code",
      "execution_count": null,
      "metadata": {
        "id": "Sw3869IkA3DD"
      },
      "outputs": [],
      "source": [
        "geo_data_0 = pd.read_csv('/datasets/geo_data_0.csv')\n",
        "geo_data_1 = pd.read_csv('/datasets/geo_data_1.csv')\n",
        "geo_data_2 = pd.read_csv('/datasets/geo_data_2.csv')"
      ]
    },
    {
      "cell_type": "markdown",
      "metadata": {
        "id": "TtEvM_RuA3DE"
      },
      "source": [
        "Изучим каждую таблицу данных."
      ]
    },
    {
      "cell_type": "code",
      "execution_count": null,
      "metadata": {
        "id": "wKYvIHMNA3DE",
        "outputId": "1ae72613-177c-4480-876c-fb0c57362da0"
      },
      "outputs": [
        {
          "name": "stdout",
          "output_type": "stream",
          "text": [
            "Таблица geo_data_0\n"
          ]
        },
        {
          "data": {
            "text/html": [
              "<div>\n",
              "<style scoped>\n",
              "    .dataframe tbody tr th:only-of-type {\n",
              "        vertical-align: middle;\n",
              "    }\n",
              "\n",
              "    .dataframe tbody tr th {\n",
              "        vertical-align: top;\n",
              "    }\n",
              "\n",
              "    .dataframe thead th {\n",
              "        text-align: right;\n",
              "    }\n",
              "</style>\n",
              "<table border=\"1\" class=\"dataframe\">\n",
              "  <thead>\n",
              "    <tr style=\"text-align: right;\">\n",
              "      <th></th>\n",
              "      <th>id</th>\n",
              "      <th>f0</th>\n",
              "      <th>f1</th>\n",
              "      <th>f2</th>\n",
              "      <th>product</th>\n",
              "    </tr>\n",
              "  </thead>\n",
              "  <tbody>\n",
              "    <tr>\n",
              "      <th>0</th>\n",
              "      <td>txEyH</td>\n",
              "      <td>0.705745</td>\n",
              "      <td>-0.497823</td>\n",
              "      <td>1.221170</td>\n",
              "      <td>105.280062</td>\n",
              "    </tr>\n",
              "    <tr>\n",
              "      <th>1</th>\n",
              "      <td>2acmU</td>\n",
              "      <td>1.334711</td>\n",
              "      <td>-0.340164</td>\n",
              "      <td>4.365080</td>\n",
              "      <td>73.037750</td>\n",
              "    </tr>\n",
              "    <tr>\n",
              "      <th>2</th>\n",
              "      <td>409Wp</td>\n",
              "      <td>1.022732</td>\n",
              "      <td>0.151990</td>\n",
              "      <td>1.419926</td>\n",
              "      <td>85.265647</td>\n",
              "    </tr>\n",
              "    <tr>\n",
              "      <th>3</th>\n",
              "      <td>iJLyR</td>\n",
              "      <td>-0.032172</td>\n",
              "      <td>0.139033</td>\n",
              "      <td>2.978566</td>\n",
              "      <td>168.620776</td>\n",
              "    </tr>\n",
              "    <tr>\n",
              "      <th>4</th>\n",
              "      <td>Xdl7t</td>\n",
              "      <td>1.988431</td>\n",
              "      <td>0.155413</td>\n",
              "      <td>4.751769</td>\n",
              "      <td>154.036647</td>\n",
              "    </tr>\n",
              "  </tbody>\n",
              "</table>\n",
              "</div>"
            ],
            "text/plain": [
              "      id        f0        f1        f2     product\n",
              "0  txEyH  0.705745 -0.497823  1.221170  105.280062\n",
              "1  2acmU  1.334711 -0.340164  4.365080   73.037750\n",
              "2  409Wp  1.022732  0.151990  1.419926   85.265647\n",
              "3  iJLyR -0.032172  0.139033  2.978566  168.620776\n",
              "4  Xdl7t  1.988431  0.155413  4.751769  154.036647"
            ]
          },
          "metadata": {},
          "output_type": "display_data"
        },
        {
          "name": "stdout",
          "output_type": "stream",
          "text": [
            "<class 'pandas.core.frame.DataFrame'>\n",
            "RangeIndex: 100000 entries, 0 to 99999\n",
            "Data columns (total 5 columns):\n",
            " #   Column   Non-Null Count   Dtype  \n",
            "---  ------   --------------   -----  \n",
            " 0   id       100000 non-null  object \n",
            " 1   f0       100000 non-null  float64\n",
            " 2   f1       100000 non-null  float64\n",
            " 3   f2       100000 non-null  float64\n",
            " 4   product  100000 non-null  float64\n",
            "dtypes: float64(4), object(1)\n",
            "memory usage: 3.8+ MB\n",
            "\n",
            "Таблица geo_data_1\n"
          ]
        },
        {
          "data": {
            "text/html": [
              "<div>\n",
              "<style scoped>\n",
              "    .dataframe tbody tr th:only-of-type {\n",
              "        vertical-align: middle;\n",
              "    }\n",
              "\n",
              "    .dataframe tbody tr th {\n",
              "        vertical-align: top;\n",
              "    }\n",
              "\n",
              "    .dataframe thead th {\n",
              "        text-align: right;\n",
              "    }\n",
              "</style>\n",
              "<table border=\"1\" class=\"dataframe\">\n",
              "  <thead>\n",
              "    <tr style=\"text-align: right;\">\n",
              "      <th></th>\n",
              "      <th>id</th>\n",
              "      <th>f0</th>\n",
              "      <th>f1</th>\n",
              "      <th>f2</th>\n",
              "      <th>product</th>\n",
              "    </tr>\n",
              "  </thead>\n",
              "  <tbody>\n",
              "    <tr>\n",
              "      <th>0</th>\n",
              "      <td>kBEdx</td>\n",
              "      <td>-15.001348</td>\n",
              "      <td>-8.276000</td>\n",
              "      <td>-0.005876</td>\n",
              "      <td>3.179103</td>\n",
              "    </tr>\n",
              "    <tr>\n",
              "      <th>1</th>\n",
              "      <td>62mP7</td>\n",
              "      <td>14.272088</td>\n",
              "      <td>-3.475083</td>\n",
              "      <td>0.999183</td>\n",
              "      <td>26.953261</td>\n",
              "    </tr>\n",
              "    <tr>\n",
              "      <th>2</th>\n",
              "      <td>vyE1P</td>\n",
              "      <td>6.263187</td>\n",
              "      <td>-5.948386</td>\n",
              "      <td>5.001160</td>\n",
              "      <td>134.766305</td>\n",
              "    </tr>\n",
              "    <tr>\n",
              "      <th>3</th>\n",
              "      <td>KcrkZ</td>\n",
              "      <td>-13.081196</td>\n",
              "      <td>-11.506057</td>\n",
              "      <td>4.999415</td>\n",
              "      <td>137.945408</td>\n",
              "    </tr>\n",
              "    <tr>\n",
              "      <th>4</th>\n",
              "      <td>AHL4O</td>\n",
              "      <td>12.702195</td>\n",
              "      <td>-8.147433</td>\n",
              "      <td>5.004363</td>\n",
              "      <td>134.766305</td>\n",
              "    </tr>\n",
              "  </tbody>\n",
              "</table>\n",
              "</div>"
            ],
            "text/plain": [
              "      id         f0         f1        f2     product\n",
              "0  kBEdx -15.001348  -8.276000 -0.005876    3.179103\n",
              "1  62mP7  14.272088  -3.475083  0.999183   26.953261\n",
              "2  vyE1P   6.263187  -5.948386  5.001160  134.766305\n",
              "3  KcrkZ -13.081196 -11.506057  4.999415  137.945408\n",
              "4  AHL4O  12.702195  -8.147433  5.004363  134.766305"
            ]
          },
          "metadata": {},
          "output_type": "display_data"
        },
        {
          "name": "stdout",
          "output_type": "stream",
          "text": [
            "<class 'pandas.core.frame.DataFrame'>\n",
            "RangeIndex: 100000 entries, 0 to 99999\n",
            "Data columns (total 5 columns):\n",
            " #   Column   Non-Null Count   Dtype  \n",
            "---  ------   --------------   -----  \n",
            " 0   id       100000 non-null  object \n",
            " 1   f0       100000 non-null  float64\n",
            " 2   f1       100000 non-null  float64\n",
            " 3   f2       100000 non-null  float64\n",
            " 4   product  100000 non-null  float64\n",
            "dtypes: float64(4), object(1)\n",
            "memory usage: 3.8+ MB\n",
            "\n",
            "Таблица geo_data_2\n"
          ]
        },
        {
          "data": {
            "text/html": [
              "<div>\n",
              "<style scoped>\n",
              "    .dataframe tbody tr th:only-of-type {\n",
              "        vertical-align: middle;\n",
              "    }\n",
              "\n",
              "    .dataframe tbody tr th {\n",
              "        vertical-align: top;\n",
              "    }\n",
              "\n",
              "    .dataframe thead th {\n",
              "        text-align: right;\n",
              "    }\n",
              "</style>\n",
              "<table border=\"1\" class=\"dataframe\">\n",
              "  <thead>\n",
              "    <tr style=\"text-align: right;\">\n",
              "      <th></th>\n",
              "      <th>id</th>\n",
              "      <th>f0</th>\n",
              "      <th>f1</th>\n",
              "      <th>f2</th>\n",
              "      <th>product</th>\n",
              "    </tr>\n",
              "  </thead>\n",
              "  <tbody>\n",
              "    <tr>\n",
              "      <th>0</th>\n",
              "      <td>fwXo0</td>\n",
              "      <td>-1.146987</td>\n",
              "      <td>0.963328</td>\n",
              "      <td>-0.828965</td>\n",
              "      <td>27.758673</td>\n",
              "    </tr>\n",
              "    <tr>\n",
              "      <th>1</th>\n",
              "      <td>WJtFt</td>\n",
              "      <td>0.262778</td>\n",
              "      <td>0.269839</td>\n",
              "      <td>-2.530187</td>\n",
              "      <td>56.069697</td>\n",
              "    </tr>\n",
              "    <tr>\n",
              "      <th>2</th>\n",
              "      <td>ovLUW</td>\n",
              "      <td>0.194587</td>\n",
              "      <td>0.289035</td>\n",
              "      <td>-5.586433</td>\n",
              "      <td>62.871910</td>\n",
              "    </tr>\n",
              "    <tr>\n",
              "      <th>3</th>\n",
              "      <td>q6cA6</td>\n",
              "      <td>2.236060</td>\n",
              "      <td>-0.553760</td>\n",
              "      <td>0.930038</td>\n",
              "      <td>114.572842</td>\n",
              "    </tr>\n",
              "    <tr>\n",
              "      <th>4</th>\n",
              "      <td>WPMUX</td>\n",
              "      <td>-0.515993</td>\n",
              "      <td>1.716266</td>\n",
              "      <td>5.899011</td>\n",
              "      <td>149.600746</td>\n",
              "    </tr>\n",
              "  </tbody>\n",
              "</table>\n",
              "</div>"
            ],
            "text/plain": [
              "      id        f0        f1        f2     product\n",
              "0  fwXo0 -1.146987  0.963328 -0.828965   27.758673\n",
              "1  WJtFt  0.262778  0.269839 -2.530187   56.069697\n",
              "2  ovLUW  0.194587  0.289035 -5.586433   62.871910\n",
              "3  q6cA6  2.236060 -0.553760  0.930038  114.572842\n",
              "4  WPMUX -0.515993  1.716266  5.899011  149.600746"
            ]
          },
          "metadata": {},
          "output_type": "display_data"
        },
        {
          "name": "stdout",
          "output_type": "stream",
          "text": [
            "<class 'pandas.core.frame.DataFrame'>\n",
            "RangeIndex: 100000 entries, 0 to 99999\n",
            "Data columns (total 5 columns):\n",
            " #   Column   Non-Null Count   Dtype  \n",
            "---  ------   --------------   -----  \n",
            " 0   id       100000 non-null  object \n",
            " 1   f0       100000 non-null  float64\n",
            " 2   f1       100000 non-null  float64\n",
            " 3   f2       100000 non-null  float64\n",
            " 4   product  100000 non-null  float64\n",
            "dtypes: float64(4), object(1)\n",
            "memory usage: 3.8+ MB\n",
            "\n"
          ]
        }
      ],
      "source": [
        "tables = [geo_data_0, geo_data_1, geo_data_2]\n",
        "i=0\n",
        "for table in tables:\n",
        "    print(f'Таблица geo_data_{i}')\n",
        "    display(table.head())\n",
        "    table.info()\n",
        "    i+=1\n",
        "    print()"
      ]
    },
    {
      "cell_type": "markdown",
      "metadata": {
        "id": "CKhJ2P63A3DF"
      },
      "source": [
        "Для каждого региона предоставлены данные о 100000 скважин. Содержание и тип данных соответствуют описанию. На первый взгляд, пропуски отсутствуют.    \n",
        "\n",
        "Проведем предобработку данных."
      ]
    },
    {
      "cell_type": "markdown",
      "metadata": {
        "id": "r0V6tCwHA3DF"
      },
      "source": [
        "### 1.2. Предобработка данных"
      ]
    },
    {
      "cell_type": "markdown",
      "metadata": {
        "id": "fVXsxkq6A3DG"
      },
      "source": [
        "На этапе чтения файлов с данными пропуски не обнаружены.    \n",
        "\n",
        "Проверим таблицы на предмет наличия полных дублей."
      ]
    },
    {
      "cell_type": "code",
      "execution_count": null,
      "metadata": {
        "id": "Be0c21WoA3DG",
        "outputId": "45226888-f3c0-4561-f366-83e939cdc462"
      },
      "outputs": [
        {
          "name": "stdout",
          "output_type": "stream",
          "text": [
            "Количество полных дублей в таблице geo_data_0: 0\n",
            "Количество полных дублей в таблице geo_data_1: 0\n",
            "Количество полных дублей в таблице geo_data_2: 0\n"
          ]
        }
      ],
      "source": [
        "print(f'Количество полных дублей в таблице geo_data_0:', geo_data_0.duplicated().sum())\n",
        "print(f'Количество полных дублей в таблице geo_data_1:', geo_data_1.duplicated().sum())\n",
        "print(f'Количество полных дублей в таблице geo_data_2:', geo_data_2.duplicated().sum())"
      ]
    },
    {
      "cell_type": "markdown",
      "metadata": {
        "id": "9klpMY0TA3DG"
      },
      "source": [
        "Полных дублей строк в таблицах нет. Проверим, нет ли дублей скважин по id."
      ]
    },
    {
      "cell_type": "code",
      "execution_count": null,
      "metadata": {
        "id": "pdZZnVKzA3DG",
        "outputId": "7f0bc34c-4592-4202-ffb3-d7354d3ab112"
      },
      "outputs": [
        {
          "name": "stdout",
          "output_type": "stream",
          "text": [
            "Количество дублей по id в таблице geo_data_0: 10\n",
            "Количество дублей по id в таблице geo_data_1: 4\n",
            "Количество дублей по id в таблице geo_data_2: 4\n"
          ]
        }
      ],
      "source": [
        "print('Количество дублей по id в таблице geo_data_0:', geo_data_0['id'].duplicated().sum())\n",
        "print('Количество дублей по id в таблице geo_data_1:', geo_data_1['id'].duplicated().sum())\n",
        "print('Количество дублей по id в таблице geo_data_2:', geo_data_2['id'].duplicated().sum())"
      ]
    },
    {
      "cell_type": "markdown",
      "metadata": {
        "id": "lNg2rkzgA3DG"
      },
      "source": [
        "В каждой из таблиц есть скважины с одинаковым id, но c разными характеристиками. Посмотрим на эти скважины на примере таблицы geo_data_0"
      ]
    },
    {
      "cell_type": "code",
      "execution_count": null,
      "metadata": {
        "id": "YzXPVzuuA3DH",
        "outputId": "06ea7f7e-f429-41af-dadd-f24c48a0e90b"
      },
      "outputs": [
        {
          "data": {
            "text/html": [
              "<div>\n",
              "<style scoped>\n",
              "    .dataframe tbody tr th:only-of-type {\n",
              "        vertical-align: middle;\n",
              "    }\n",
              "\n",
              "    .dataframe tbody tr th {\n",
              "        vertical-align: top;\n",
              "    }\n",
              "\n",
              "    .dataframe thead th {\n",
              "        text-align: right;\n",
              "    }\n",
              "</style>\n",
              "<table border=\"1\" class=\"dataframe\">\n",
              "  <thead>\n",
              "    <tr style=\"text-align: right;\">\n",
              "      <th></th>\n",
              "      <th>id</th>\n",
              "      <th>f0</th>\n",
              "      <th>f1</th>\n",
              "      <th>f2</th>\n",
              "      <th>product</th>\n",
              "    </tr>\n",
              "  </thead>\n",
              "  <tbody>\n",
              "    <tr>\n",
              "      <th>66136</th>\n",
              "      <td>74z30</td>\n",
              "      <td>1.084962</td>\n",
              "      <td>-0.312358</td>\n",
              "      <td>6.990771</td>\n",
              "      <td>127.643327</td>\n",
              "    </tr>\n",
              "    <tr>\n",
              "      <th>64022</th>\n",
              "      <td>74z30</td>\n",
              "      <td>0.741456</td>\n",
              "      <td>0.459229</td>\n",
              "      <td>5.153109</td>\n",
              "      <td>140.771492</td>\n",
              "    </tr>\n",
              "    <tr>\n",
              "      <th>51970</th>\n",
              "      <td>A5aEY</td>\n",
              "      <td>-0.180335</td>\n",
              "      <td>0.935548</td>\n",
              "      <td>-2.094773</td>\n",
              "      <td>33.020205</td>\n",
              "    </tr>\n",
              "    <tr>\n",
              "      <th>3389</th>\n",
              "      <td>A5aEY</td>\n",
              "      <td>-0.039949</td>\n",
              "      <td>0.156872</td>\n",
              "      <td>0.209861</td>\n",
              "      <td>89.249364</td>\n",
              "    </tr>\n",
              "    <tr>\n",
              "      <th>69163</th>\n",
              "      <td>AGS9W</td>\n",
              "      <td>-0.933795</td>\n",
              "      <td>0.116194</td>\n",
              "      <td>-3.655896</td>\n",
              "      <td>19.230453</td>\n",
              "    </tr>\n",
              "    <tr>\n",
              "      <th>42529</th>\n",
              "      <td>AGS9W</td>\n",
              "      <td>1.454747</td>\n",
              "      <td>-0.479651</td>\n",
              "      <td>0.683380</td>\n",
              "      <td>126.370504</td>\n",
              "    </tr>\n",
              "    <tr>\n",
              "      <th>931</th>\n",
              "      <td>HZww2</td>\n",
              "      <td>0.755284</td>\n",
              "      <td>0.368511</td>\n",
              "      <td>1.863211</td>\n",
              "      <td>30.681774</td>\n",
              "    </tr>\n",
              "    <tr>\n",
              "      <th>7530</th>\n",
              "      <td>HZww2</td>\n",
              "      <td>1.061194</td>\n",
              "      <td>-0.373969</td>\n",
              "      <td>10.430210</td>\n",
              "      <td>158.828695</td>\n",
              "    </tr>\n",
              "    <tr>\n",
              "      <th>63593</th>\n",
              "      <td>QcMuo</td>\n",
              "      <td>0.635635</td>\n",
              "      <td>-0.473422</td>\n",
              "      <td>0.862670</td>\n",
              "      <td>64.578675</td>\n",
              "    </tr>\n",
              "    <tr>\n",
              "      <th>1949</th>\n",
              "      <td>QcMuo</td>\n",
              "      <td>0.506563</td>\n",
              "      <td>-0.323775</td>\n",
              "      <td>-2.215583</td>\n",
              "      <td>75.496502</td>\n",
              "    </tr>\n",
              "    <tr>\n",
              "      <th>75715</th>\n",
              "      <td>Tdehs</td>\n",
              "      <td>0.112079</td>\n",
              "      <td>0.430296</td>\n",
              "      <td>3.218993</td>\n",
              "      <td>60.964018</td>\n",
              "    </tr>\n",
              "    <tr>\n",
              "      <th>21426</th>\n",
              "      <td>Tdehs</td>\n",
              "      <td>0.829407</td>\n",
              "      <td>0.298807</td>\n",
              "      <td>-0.049563</td>\n",
              "      <td>96.035308</td>\n",
              "    </tr>\n",
              "    <tr>\n",
              "      <th>92341</th>\n",
              "      <td>TtcGQ</td>\n",
              "      <td>0.110711</td>\n",
              "      <td>1.022689</td>\n",
              "      <td>0.911381</td>\n",
              "      <td>101.318008</td>\n",
              "    </tr>\n",
              "    <tr>\n",
              "      <th>60140</th>\n",
              "      <td>TtcGQ</td>\n",
              "      <td>0.569276</td>\n",
              "      <td>-0.104876</td>\n",
              "      <td>6.440215</td>\n",
              "      <td>85.350186</td>\n",
              "    </tr>\n",
              "    <tr>\n",
              "      <th>89582</th>\n",
              "      <td>bsk9y</td>\n",
              "      <td>0.398908</td>\n",
              "      <td>-0.400253</td>\n",
              "      <td>10.122376</td>\n",
              "      <td>163.433078</td>\n",
              "    </tr>\n",
              "    <tr>\n",
              "      <th>97785</th>\n",
              "      <td>bsk9y</td>\n",
              "      <td>0.378429</td>\n",
              "      <td>0.005837</td>\n",
              "      <td>0.160827</td>\n",
              "      <td>160.637302</td>\n",
              "    </tr>\n",
              "    <tr>\n",
              "      <th>41724</th>\n",
              "      <td>bxg6G</td>\n",
              "      <td>-0.823752</td>\n",
              "      <td>0.546319</td>\n",
              "      <td>3.630479</td>\n",
              "      <td>93.007798</td>\n",
              "    </tr>\n",
              "    <tr>\n",
              "      <th>1364</th>\n",
              "      <td>bxg6G</td>\n",
              "      <td>0.411645</td>\n",
              "      <td>0.856830</td>\n",
              "      <td>-3.653440</td>\n",
              "      <td>73.604260</td>\n",
              "    </tr>\n",
              "    <tr>\n",
              "      <th>16633</th>\n",
              "      <td>fiKDv</td>\n",
              "      <td>0.157341</td>\n",
              "      <td>1.028359</td>\n",
              "      <td>5.585586</td>\n",
              "      <td>95.817889</td>\n",
              "    </tr>\n",
              "    <tr>\n",
              "      <th>90815</th>\n",
              "      <td>fiKDv</td>\n",
              "      <td>0.049883</td>\n",
              "      <td>0.841313</td>\n",
              "      <td>6.394613</td>\n",
              "      <td>137.346586</td>\n",
              "    </tr>\n",
              "  </tbody>\n",
              "</table>\n",
              "</div>"
            ],
            "text/plain": [
              "          id        f0        f1         f2     product\n",
              "66136  74z30  1.084962 -0.312358   6.990771  127.643327\n",
              "64022  74z30  0.741456  0.459229   5.153109  140.771492\n",
              "51970  A5aEY -0.180335  0.935548  -2.094773   33.020205\n",
              "3389   A5aEY -0.039949  0.156872   0.209861   89.249364\n",
              "69163  AGS9W -0.933795  0.116194  -3.655896   19.230453\n",
              "42529  AGS9W  1.454747 -0.479651   0.683380  126.370504\n",
              "931    HZww2  0.755284  0.368511   1.863211   30.681774\n",
              "7530   HZww2  1.061194 -0.373969  10.430210  158.828695\n",
              "63593  QcMuo  0.635635 -0.473422   0.862670   64.578675\n",
              "1949   QcMuo  0.506563 -0.323775  -2.215583   75.496502\n",
              "75715  Tdehs  0.112079  0.430296   3.218993   60.964018\n",
              "21426  Tdehs  0.829407  0.298807  -0.049563   96.035308\n",
              "92341  TtcGQ  0.110711  1.022689   0.911381  101.318008\n",
              "60140  TtcGQ  0.569276 -0.104876   6.440215   85.350186\n",
              "89582  bsk9y  0.398908 -0.400253  10.122376  163.433078\n",
              "97785  bsk9y  0.378429  0.005837   0.160827  160.637302\n",
              "41724  bxg6G -0.823752  0.546319   3.630479   93.007798\n",
              "1364   bxg6G  0.411645  0.856830  -3.653440   73.604260\n",
              "16633  fiKDv  0.157341  1.028359   5.585586   95.817889\n",
              "90815  fiKDv  0.049883  0.841313   6.394613  137.346586"
            ]
          },
          "metadata": {},
          "output_type": "display_data"
        }
      ],
      "source": [
        "dup_id0 = geo_data_0[geo_data_0['id'].duplicated()]['id']\n",
        "display(geo_data_0.query('id in @dup_id0').sort_values(by='id'))"
      ]
    },
    {
      "cell_type": "markdown",
      "metadata": {
        "id": "6BGGQzPUA3DH"
      },
      "source": [
        "У скважин одинаковые идентификаторы, но абсолютно разные характеристики, включая значение целевого признака - объем запасов нефти. Полагаю, что здесь имеет место человеческий фактор - разные скважины по ошибке названы одинаково. Учитывая общее количество скважин в каждом из датасетов (100000), наличие данной ошибки неудивительно. У нас нет оснований сомневаться в достоверности данных по дублирующим скважинам, а значит удалять их из датасета нецелесообразно.\n",
        "\n",
        "Поэтому на текущем этапе сохраним id всех дублей в отдельные списки для предоставления заказчику. id для файла geo_data_0 уже сохранены в переменной dup_id0. Создадим аналогичные переменные для других таблиц."
      ]
    },
    {
      "cell_type": "code",
      "execution_count": null,
      "metadata": {
        "id": "CYKXnplXA3DH",
        "outputId": "884ff8dd-d7ec-46ae-e21c-4b3058788c74"
      },
      "outputs": [
        {
          "data": {
            "text/plain": [
              "41906    LHZR0\n",
              "82178    bfPNe\n",
              "82873    wt4Uk\n",
              "84461    5ltQ6\n",
              "Name: id, dtype: object"
            ]
          },
          "metadata": {},
          "output_type": "display_data"
        },
        {
          "data": {
            "text/plain": [
              "43233    xCHr8\n",
              "49564    VF7Jo\n",
              "55967    KUPhW\n",
              "95090    Vcm5J\n",
              "Name: id, dtype: object"
            ]
          },
          "metadata": {},
          "output_type": "display_data"
        }
      ],
      "source": [
        "dup_id1 = geo_data_1[geo_data_1['id'].duplicated()]['id']\n",
        "dup_id2 = geo_data_2[geo_data_2['id'].duplicated()]['id']\n",
        "display(dup_id1.head())\n",
        "display(dup_id2.head())"
      ]
    },
    {
      "cell_type": "markdown",
      "metadata": {
        "id": "ouIUBVu3A3DH"
      },
      "source": [
        "Исключая id, все признаки в датасетах количественные, а поэтому на неявные дубликаты проверять датасеты не будем.    \n",
        "Для удобства дальнейшего анализа исключим из датасетов id. Для достижения цели исследования нам не потребуются эти данные."
      ]
    },
    {
      "cell_type": "code",
      "execution_count": null,
      "metadata": {
        "id": "KOJO25xnA3DH"
      },
      "outputs": [],
      "source": [
        "geo_data_0 = geo_data_0.drop('id', axis=1)\n",
        "geo_data_1 = geo_data_1.drop('id', axis=1)\n",
        "geo_data_2 = geo_data_2.drop('id', axis=1)"
      ]
    },
    {
      "cell_type": "markdown",
      "metadata": {
        "id": "Rr99VMUtA3DH"
      },
      "source": [
        "Проведем исследовательский анализ данных."
      ]
    },
    {
      "cell_type": "markdown",
      "metadata": {
        "id": "4R3zxYnXA3DI"
      },
      "source": [
        "### 1.3. Исследовательский анализ данных"
      ]
    },
    {
      "cell_type": "markdown",
      "metadata": {
        "id": "ZkMBSENtA3DI"
      },
      "source": [
        "Проанализируем распределения значений признаков в датасетов."
      ]
    },
    {
      "cell_type": "code",
      "execution_count": null,
      "metadata": {
        "id": "C_OZr9jWA3DI",
        "outputId": "94d14b58-64a6-4311-ceba-77e58b4b4d57"
      },
      "outputs": [
        {
          "name": "stdout",
          "output_type": "stream",
          "text": [
            "Характеристики распределений признаков в geo_data_0\n"
          ]
        },
        {
          "data": {
            "text/html": [
              "<div>\n",
              "<style scoped>\n",
              "    .dataframe tbody tr th:only-of-type {\n",
              "        vertical-align: middle;\n",
              "    }\n",
              "\n",
              "    .dataframe tbody tr th {\n",
              "        vertical-align: top;\n",
              "    }\n",
              "\n",
              "    .dataframe thead th {\n",
              "        text-align: right;\n",
              "    }\n",
              "</style>\n",
              "<table border=\"1\" class=\"dataframe\">\n",
              "  <thead>\n",
              "    <tr style=\"text-align: right;\">\n",
              "      <th></th>\n",
              "      <th>f0</th>\n",
              "      <th>f1</th>\n",
              "      <th>f2</th>\n",
              "      <th>product</th>\n",
              "    </tr>\n",
              "  </thead>\n",
              "  <tbody>\n",
              "    <tr>\n",
              "      <th>count</th>\n",
              "      <td>100000.000000</td>\n",
              "      <td>100000.000000</td>\n",
              "      <td>100000.000000</td>\n",
              "      <td>100000.000000</td>\n",
              "    </tr>\n",
              "    <tr>\n",
              "      <th>mean</th>\n",
              "      <td>0.500419</td>\n",
              "      <td>0.250143</td>\n",
              "      <td>2.502647</td>\n",
              "      <td>92.500000</td>\n",
              "    </tr>\n",
              "    <tr>\n",
              "      <th>std</th>\n",
              "      <td>0.871832</td>\n",
              "      <td>0.504433</td>\n",
              "      <td>3.248248</td>\n",
              "      <td>44.288691</td>\n",
              "    </tr>\n",
              "    <tr>\n",
              "      <th>min</th>\n",
              "      <td>-1.408605</td>\n",
              "      <td>-0.848218</td>\n",
              "      <td>-12.088328</td>\n",
              "      <td>0.000000</td>\n",
              "    </tr>\n",
              "    <tr>\n",
              "      <th>25%</th>\n",
              "      <td>-0.072580</td>\n",
              "      <td>-0.200881</td>\n",
              "      <td>0.287748</td>\n",
              "      <td>56.497507</td>\n",
              "    </tr>\n",
              "    <tr>\n",
              "      <th>50%</th>\n",
              "      <td>0.502360</td>\n",
              "      <td>0.250252</td>\n",
              "      <td>2.515969</td>\n",
              "      <td>91.849972</td>\n",
              "    </tr>\n",
              "    <tr>\n",
              "      <th>75%</th>\n",
              "      <td>1.073581</td>\n",
              "      <td>0.700646</td>\n",
              "      <td>4.715088</td>\n",
              "      <td>128.564089</td>\n",
              "    </tr>\n",
              "    <tr>\n",
              "      <th>max</th>\n",
              "      <td>2.362331</td>\n",
              "      <td>1.343769</td>\n",
              "      <td>16.003790</td>\n",
              "      <td>185.364347</td>\n",
              "    </tr>\n",
              "  </tbody>\n",
              "</table>\n",
              "</div>"
            ],
            "text/plain": [
              "                  f0             f1             f2        product\n",
              "count  100000.000000  100000.000000  100000.000000  100000.000000\n",
              "mean        0.500419       0.250143       2.502647      92.500000\n",
              "std         0.871832       0.504433       3.248248      44.288691\n",
              "min        -1.408605      -0.848218     -12.088328       0.000000\n",
              "25%        -0.072580      -0.200881       0.287748      56.497507\n",
              "50%         0.502360       0.250252       2.515969      91.849972\n",
              "75%         1.073581       0.700646       4.715088     128.564089\n",
              "max         2.362331       1.343769      16.003790     185.364347"
            ]
          },
          "metadata": {},
          "output_type": "display_data"
        },
        {
          "name": "stdout",
          "output_type": "stream",
          "text": [
            "Характеристики распределений признаков в geo_data_1\n"
          ]
        },
        {
          "data": {
            "text/html": [
              "<div>\n",
              "<style scoped>\n",
              "    .dataframe tbody tr th:only-of-type {\n",
              "        vertical-align: middle;\n",
              "    }\n",
              "\n",
              "    .dataframe tbody tr th {\n",
              "        vertical-align: top;\n",
              "    }\n",
              "\n",
              "    .dataframe thead th {\n",
              "        text-align: right;\n",
              "    }\n",
              "</style>\n",
              "<table border=\"1\" class=\"dataframe\">\n",
              "  <thead>\n",
              "    <tr style=\"text-align: right;\">\n",
              "      <th></th>\n",
              "      <th>f0</th>\n",
              "      <th>f1</th>\n",
              "      <th>f2</th>\n",
              "      <th>product</th>\n",
              "    </tr>\n",
              "  </thead>\n",
              "  <tbody>\n",
              "    <tr>\n",
              "      <th>count</th>\n",
              "      <td>100000.000000</td>\n",
              "      <td>100000.000000</td>\n",
              "      <td>100000.000000</td>\n",
              "      <td>100000.000000</td>\n",
              "    </tr>\n",
              "    <tr>\n",
              "      <th>mean</th>\n",
              "      <td>1.141296</td>\n",
              "      <td>-4.796579</td>\n",
              "      <td>2.494541</td>\n",
              "      <td>68.825000</td>\n",
              "    </tr>\n",
              "    <tr>\n",
              "      <th>std</th>\n",
              "      <td>8.965932</td>\n",
              "      <td>5.119872</td>\n",
              "      <td>1.703572</td>\n",
              "      <td>45.944423</td>\n",
              "    </tr>\n",
              "    <tr>\n",
              "      <th>min</th>\n",
              "      <td>-31.609576</td>\n",
              "      <td>-26.358598</td>\n",
              "      <td>-0.018144</td>\n",
              "      <td>0.000000</td>\n",
              "    </tr>\n",
              "    <tr>\n",
              "      <th>25%</th>\n",
              "      <td>-6.298551</td>\n",
              "      <td>-8.267985</td>\n",
              "      <td>1.000021</td>\n",
              "      <td>26.953261</td>\n",
              "    </tr>\n",
              "    <tr>\n",
              "      <th>50%</th>\n",
              "      <td>1.153055</td>\n",
              "      <td>-4.813172</td>\n",
              "      <td>2.011479</td>\n",
              "      <td>57.085625</td>\n",
              "    </tr>\n",
              "    <tr>\n",
              "      <th>75%</th>\n",
              "      <td>8.621015</td>\n",
              "      <td>-1.332816</td>\n",
              "      <td>3.999904</td>\n",
              "      <td>107.813044</td>\n",
              "    </tr>\n",
              "    <tr>\n",
              "      <th>max</th>\n",
              "      <td>29.421755</td>\n",
              "      <td>18.734063</td>\n",
              "      <td>5.019721</td>\n",
              "      <td>137.945408</td>\n",
              "    </tr>\n",
              "  </tbody>\n",
              "</table>\n",
              "</div>"
            ],
            "text/plain": [
              "                  f0             f1             f2        product\n",
              "count  100000.000000  100000.000000  100000.000000  100000.000000\n",
              "mean        1.141296      -4.796579       2.494541      68.825000\n",
              "std         8.965932       5.119872       1.703572      45.944423\n",
              "min       -31.609576     -26.358598      -0.018144       0.000000\n",
              "25%        -6.298551      -8.267985       1.000021      26.953261\n",
              "50%         1.153055      -4.813172       2.011479      57.085625\n",
              "75%         8.621015      -1.332816       3.999904     107.813044\n",
              "max        29.421755      18.734063       5.019721     137.945408"
            ]
          },
          "metadata": {},
          "output_type": "display_data"
        },
        {
          "name": "stdout",
          "output_type": "stream",
          "text": [
            "Характеристики распределений признаков в geo_data_2\n"
          ]
        },
        {
          "data": {
            "text/html": [
              "<div>\n",
              "<style scoped>\n",
              "    .dataframe tbody tr th:only-of-type {\n",
              "        vertical-align: middle;\n",
              "    }\n",
              "\n",
              "    .dataframe tbody tr th {\n",
              "        vertical-align: top;\n",
              "    }\n",
              "\n",
              "    .dataframe thead th {\n",
              "        text-align: right;\n",
              "    }\n",
              "</style>\n",
              "<table border=\"1\" class=\"dataframe\">\n",
              "  <thead>\n",
              "    <tr style=\"text-align: right;\">\n",
              "      <th></th>\n",
              "      <th>f0</th>\n",
              "      <th>f1</th>\n",
              "      <th>f2</th>\n",
              "      <th>product</th>\n",
              "    </tr>\n",
              "  </thead>\n",
              "  <tbody>\n",
              "    <tr>\n",
              "      <th>count</th>\n",
              "      <td>100000.000000</td>\n",
              "      <td>100000.000000</td>\n",
              "      <td>100000.000000</td>\n",
              "      <td>100000.000000</td>\n",
              "    </tr>\n",
              "    <tr>\n",
              "      <th>mean</th>\n",
              "      <td>0.002023</td>\n",
              "      <td>-0.002081</td>\n",
              "      <td>2.495128</td>\n",
              "      <td>95.000000</td>\n",
              "    </tr>\n",
              "    <tr>\n",
              "      <th>std</th>\n",
              "      <td>1.732045</td>\n",
              "      <td>1.730417</td>\n",
              "      <td>3.473445</td>\n",
              "      <td>44.749921</td>\n",
              "    </tr>\n",
              "    <tr>\n",
              "      <th>min</th>\n",
              "      <td>-8.760004</td>\n",
              "      <td>-7.084020</td>\n",
              "      <td>-11.970335</td>\n",
              "      <td>0.000000</td>\n",
              "    </tr>\n",
              "    <tr>\n",
              "      <th>25%</th>\n",
              "      <td>-1.162288</td>\n",
              "      <td>-1.174820</td>\n",
              "      <td>0.130359</td>\n",
              "      <td>59.450441</td>\n",
              "    </tr>\n",
              "    <tr>\n",
              "      <th>50%</th>\n",
              "      <td>0.009424</td>\n",
              "      <td>-0.009482</td>\n",
              "      <td>2.484236</td>\n",
              "      <td>94.925613</td>\n",
              "    </tr>\n",
              "    <tr>\n",
              "      <th>75%</th>\n",
              "      <td>1.158535</td>\n",
              "      <td>1.163678</td>\n",
              "      <td>4.858794</td>\n",
              "      <td>130.595027</td>\n",
              "    </tr>\n",
              "    <tr>\n",
              "      <th>max</th>\n",
              "      <td>7.238262</td>\n",
              "      <td>7.844801</td>\n",
              "      <td>16.739402</td>\n",
              "      <td>190.029838</td>\n",
              "    </tr>\n",
              "  </tbody>\n",
              "</table>\n",
              "</div>"
            ],
            "text/plain": [
              "                  f0             f1             f2        product\n",
              "count  100000.000000  100000.000000  100000.000000  100000.000000\n",
              "mean        0.002023      -0.002081       2.495128      95.000000\n",
              "std         1.732045       1.730417       3.473445      44.749921\n",
              "min        -8.760004      -7.084020     -11.970335       0.000000\n",
              "25%        -1.162288      -1.174820       0.130359      59.450441\n",
              "50%         0.009424      -0.009482       2.484236      94.925613\n",
              "75%         1.158535       1.163678       4.858794     130.595027\n",
              "max         7.238262       7.844801      16.739402     190.029838"
            ]
          },
          "metadata": {},
          "output_type": "display_data"
        },
        {
          "data": {
            "image/png": "[encoded data removed]",
            "text/plain": [
              "<Figure size 1440x2160 with 12 Axes>"
            ]
          },
          "metadata": {
            "needs_background": "light"
          },
          "output_type": "display_data"
        }
      ],
      "source": [
        "cols = ['f0', 'f1', 'f2', 'product']\n",
        "print('Характеристики распределений признаков в geo_data_0')\n",
        "display(geo_data_0.describe())\n",
        "print('Характеристики распределений признаков в geo_data_1')\n",
        "display(geo_data_1.describe())\n",
        "print('Характеристики распределений признаков в geo_data_2')\n",
        "display(geo_data_2.describe())\n",
        "i=0\n",
        "fig, axes = plt.subplots(nrows=4, ncols=3, figsize=(20,30))\n",
        "plt.subplots_adjust(wspace=0.5, hspace=0.5)\n",
        "axe = axes.ravel()\n",
        "for col in cols:\n",
        "        sns.histplot(geo_data_0[col], kde=False, bins=100, ax=axe[i])\n",
        "        axe[i].set_title(f'Распределение признака {col} в geo_data_0')\n",
        "        axe[i].set_xlabel(col)\n",
        "        axe[i].set_ylabel('Количество скважин')\n",
        "        sns.histplot(geo_data_1[col], kde=False, bins=100, ax=axe[i+1])\n",
        "        axe[i+1].set_title(f'Распределение признака {col} в geo_data_1')\n",
        "        axe[i+1].set_xlabel(col)\n",
        "        axe[i+1].set_ylabel('Количество скважин')\n",
        "        sns.histplot(geo_data_2[col], kde=False, bins=100, ax=axe[i+2])\n",
        "        axe[i+2].set_title(f'Распределение признака {col} в geo_data_2')\n",
        "        axe[i+2].set_xlabel(col)\n",
        "        axe[i+2].set_ylabel('Количество скважин')\n",
        "        i+=3"
      ]
    },
    {
      "cell_type": "markdown",
      "metadata": {
        "id": "9BJyovE0A3DI"
      },
      "source": [
        "Распределение значений признаков скважин различается во всех трех датасетах. Причем, это касается как характера распределений, так и диапазона значений. Например, если мы возьмем признак f0, в первой таблице его значения находятся в диапазоне от -1.40 до 2.36, во второй - в диапазоне от примерно -32 до 30 . а в третьей - от -9 до 7. Признак f2 в geo_data_0 и geo_data_2 имеет почти идеально нормальное распределение, в то время как в geo_data_1 его значения сгруппировались вокруг конкретных цифр.\n",
        "\n",
        "Мы не знаем, какие именно характеристики скрываются за признаками f0, f1 и f2, а поэтому сложно сделать вывод о реалистичности либо нереалистичности их значений в таблицах. Однако, учитывая графики распределений и разброс значений признаков в датасетах, могу сделать вывод:\n",
        "- регионы, в которых находятся скважины для каждого из датасетов, значительно различаются по своим характеристикам;     \n",
        "\n",
        "либо    \n",
        "\n",
        "- за признаками f0, f1 и f2 в каждом из датасетов скрываются разные характеристики точек;   \n",
        "\n",
        "либо   \n",
        "\n",
        "- f0, f1 и f2 это географические координаты скважин, и за нулевой километр, относительно которого произведен расчет координат, взята некая точка из региона geo_data_0, а регионы geo_data_1 и geo_data_2 находятся на разном удалении от этой точки.\n",
        "\n",
        "В любом случае, наблюдаемая разница не помешает нам построить модели и сделать предсказания, так как данные из таблиц не будут пересекаться между собой."
      ]
    },
    {
      "cell_type": "markdown",
      "metadata": {
        "id": "V1ixoWVLA3DI"
      },
      "source": [
        "Отдельно стоит рассмотреть распределение объемов запасов нефти (product). В каждом из датасетов есть скважины с нулевыми значениями данного признака. Посмотрим, сколько их."
      ]
    },
    {
      "cell_type": "code",
      "execution_count": null,
      "metadata": {
        "id": "kVwnjgykA3DI",
        "outputId": "4e6f287d-f084-41a6-b907-ebd5bf925290"
      },
      "outputs": [
        {
          "name": "stdout",
          "output_type": "stream",
          "text": [
            "Количество пустых скважин в geo_data_0: 1\n",
            "Количество пустых скважин в geo_data_1: 8235\n",
            "Количество пустых скважин в geo_data_2: 1\n"
          ]
        }
      ],
      "source": [
        "print('Количество пустых скважин в geo_data_0:', geo_data_0.query('product==0').shape[0])\n",
        "print('Количество пустых скважин в geo_data_1:', geo_data_1.query('product==0').shape[0])\n",
        "print('Количество пустых скважин в geo_data_2:', geo_data_2.query('product==0').shape[0])"
      ]
    },
    {
      "cell_type": "markdown",
      "metadata": {
        "id": "ZunnrljmA3DJ"
      },
      "source": [
        "В первом и третьем регионах по 1 пустой скважине, а вот во 2-м 8235 - это 8% от всего региона.    \n",
        "\n",
        "Вряд ли заказчик планирует разработку пустых скважин, однако удалять из датасета их не будем. Во-первых, нам необходимо, чтобы модель умела предсказывать такие значение, а во-вторых, при оценке прибыльности региона нам необходимо учесть наличие в нем пустых скважин.   \n",
        "\n",
        "Также интересно распределение запасов нефти во втором датасете (geo_data_1). Данные сгруппированы вокруг конкретных значений. Маловероятно, что в нескольких тысячах скважин реальный объем нефти идентичен вплоть до 6 знаков после запятой. Предполагаю, что это не реальные, а предсказанные значения. При этом, либо во втором регионе использована методика предсказаний, отличная от первого и третьего регионов, либо на значения предсказаний сильно повлияла уже отмеченная разница в распределении признака f2 - там тоже наблюдается группировка вокруг такого же количества конкретных значений.    \n",
        "\n",
        "Проведем корреляционный анализ данных."
      ]
    },
    {
      "cell_type": "markdown",
      "metadata": {
        "id": "Mqay0zMPA3DJ"
      },
      "source": [
        "### 1.4. Корреляционный анализ данных"
      ]
    },
    {
      "cell_type": "markdown",
      "metadata": {
        "id": "icElwQWqA3DJ"
      },
      "source": [
        "Все признаки у нас являются количественными, при этом некоторые распределены ненормально. Построим матрицу корреляции с использованием коэффициента Спирмена."
      ]
    },
    {
      "cell_type": "code",
      "execution_count": null,
      "metadata": {
        "id": "fbdFp1s7A3DJ",
        "outputId": "bdf4d9e7-3627-4b96-bbaa-8297ba02f9db"
      },
      "outputs": [
        {
          "data": {
            "image/png": "[encoded data removed]",
            "text/plain": [
              "<Figure size 1080x1800 with 6 Axes>"
            ]
          },
          "metadata": {
            "needs_background": "light"
          },
          "output_type": "display_data"
        }
      ],
      "source": [
        "fig, axes = plt.subplots(nrows=3, ncols=1, figsize=(15,25))\n",
        "plt.subplots_adjust(wspace=0.5, hspace=0.5)\n",
        "axe = axes.ravel()\n",
        "i=0\n",
        "for table in tables:\n",
        "    sns.heatmap(table.corr(method='spearman'), annot=True, fmt='.2f', cmap='bwr', ax=axe[i])\n",
        "    axe[i].set_title(f'Тепловая карта взаимосвязи признаков в таблице geo_data_{i}')\n",
        "    i+=1\n",
        "None"
      ]
    },
    {
      "cell_type": "markdown",
      "metadata": {
        "id": "BmuvDpo-A3DJ"
      },
      "source": [
        "Наиболее сильно на целевой product влияет признак f2 - это характерно для всех датасетов. При этом для второго региона (таблица geo_data_1) соответствующий коэффициент корреляции равен 0.98, а значит подтверждается ранее отмеченное предположение о том, что целевой product сгруппировался вокруг конкретных значений в соответствии с аналогичной группировкой в распределении признака f2.    \n",
        "В третьем регионе (geo_data_2) на целевой влияет только признак f2, при этом связь нельзя назвать сильной, значение коэффициента составляет 0.45. Проверим, что изменится, если возвести значения признаков f0, f1 и f2 в квадрат."
      ]
    },
    {
      "cell_type": "code",
      "execution_count": null,
      "metadata": {
        "id": "-cJDdYarA3DJ",
        "outputId": "acb1b377-c145-42d9-92d8-af28ba329954"
      },
      "outputs": [
        {
          "data": {
            "image/png": "[encoded data removed]",
            "text/plain": [
              "<Figure size 432x288 with 2 Axes>"
            ]
          },
          "metadata": {
            "needs_background": "light"
          },
          "output_type": "display_data"
        }
      ],
      "source": [
        "geo_data_2['f0_2'] = geo_data_2['f0']**2\n",
        "geo_data_2['f1_2'] = geo_data_2['f1']**2\n",
        "geo_data_2['f2_2'] = geo_data_2['f2']**2\n",
        "sns.heatmap(geo_data_2.corr(method='spearman'), annot=True, fmt='.2f', cmap='bwr')\n",
        "plt.title('Тепловая карта взаимосвязи признаков в таблице geo_data_2')\n",
        "None"
      ]
    },
    {
      "cell_type": "markdown",
      "metadata": {
        "id": "YYaYO-fAA3DK"
      },
      "source": [
        "Коэффициенты корреляции между f0, f1 и целевым выросли до 0.17. Связь по-прежнему незначительная, но уже лучше чем 0. А вот влияние f2 на целевой снизилось. Оставим квадраты f0 и f1, а вот квадрат f2 исключим из датасета.    \n",
        "\n",
        "Дополнительно отмечу, что попробовал возвести в квадраты признаки и в других датасетах, однако это не дало роста коэффициентов корреляции."
      ]
    },
    {
      "cell_type": "code",
      "execution_count": null,
      "metadata": {
        "id": "qO2IvQ0LA3DK",
        "outputId": "e509a9d3-a9e8-41ed-d0b7-a1529f5c9158"
      },
      "outputs": [
        {
          "data": {
            "text/html": [
              "<div>\n",
              "<style scoped>\n",
              "    .dataframe tbody tr th:only-of-type {\n",
              "        vertical-align: middle;\n",
              "    }\n",
              "\n",
              "    .dataframe tbody tr th {\n",
              "        vertical-align: top;\n",
              "    }\n",
              "\n",
              "    .dataframe thead th {\n",
              "        text-align: right;\n",
              "    }\n",
              "</style>\n",
              "<table border=\"1\" class=\"dataframe\">\n",
              "  <thead>\n",
              "    <tr style=\"text-align: right;\">\n",
              "      <th></th>\n",
              "      <th>f0</th>\n",
              "      <th>f1</th>\n",
              "      <th>f2</th>\n",
              "      <th>product</th>\n",
              "      <th>f0_2</th>\n",
              "      <th>f1_2</th>\n",
              "    </tr>\n",
              "  </thead>\n",
              "  <tbody>\n",
              "    <tr>\n",
              "      <th>0</th>\n",
              "      <td>-1.146987</td>\n",
              "      <td>0.963328</td>\n",
              "      <td>-0.828965</td>\n",
              "      <td>27.758673</td>\n",
              "      <td>1.315579</td>\n",
              "      <td>0.928001</td>\n",
              "    </tr>\n",
              "    <tr>\n",
              "      <th>1</th>\n",
              "      <td>0.262778</td>\n",
              "      <td>0.269839</td>\n",
              "      <td>-2.530187</td>\n",
              "      <td>56.069697</td>\n",
              "      <td>0.069052</td>\n",
              "      <td>0.072813</td>\n",
              "    </tr>\n",
              "    <tr>\n",
              "      <th>2</th>\n",
              "      <td>0.194587</td>\n",
              "      <td>0.289035</td>\n",
              "      <td>-5.586433</td>\n",
              "      <td>62.871910</td>\n",
              "      <td>0.037864</td>\n",
              "      <td>0.083541</td>\n",
              "    </tr>\n",
              "    <tr>\n",
              "      <th>3</th>\n",
              "      <td>2.236060</td>\n",
              "      <td>-0.553760</td>\n",
              "      <td>0.930038</td>\n",
              "      <td>114.572842</td>\n",
              "      <td>4.999963</td>\n",
              "      <td>0.306650</td>\n",
              "    </tr>\n",
              "    <tr>\n",
              "      <th>4</th>\n",
              "      <td>-0.515993</td>\n",
              "      <td>1.716266</td>\n",
              "      <td>5.899011</td>\n",
              "      <td>149.600746</td>\n",
              "      <td>0.266249</td>\n",
              "      <td>2.945567</td>\n",
              "    </tr>\n",
              "  </tbody>\n",
              "</table>\n",
              "</div>"
            ],
            "text/plain": [
              "         f0        f1        f2     product      f0_2      f1_2\n",
              "0 -1.146987  0.963328 -0.828965   27.758673  1.315579  0.928001\n",
              "1  0.262778  0.269839 -2.530187   56.069697  0.069052  0.072813\n",
              "2  0.194587  0.289035 -5.586433   62.871910  0.037864  0.083541\n",
              "3  2.236060 -0.553760  0.930038  114.572842  4.999963  0.306650\n",
              "4 -0.515993  1.716266  5.899011  149.600746  0.266249  2.945567"
            ]
          },
          "execution_count": 13,
          "metadata": {},
          "output_type": "execute_result"
        }
      ],
      "source": [
        "geo_data_2 = geo_data_2.drop('f2_2', axis=1)\n",
        "geo_data_2.head()"
      ]
    },
    {
      "cell_type": "markdown",
      "metadata": {
        "id": "8q41mbcbA3DK"
      },
      "source": [
        "### Промежуточный вывод"
      ]
    },
    {
      "cell_type": "markdown",
      "metadata": {
        "id": "Ka1P4-oHA3DK"
      },
      "source": [
        "Таблицы с данными по 3 регионам открыты и изучены. Для каждого региона предоставлены данные о 100000 скважинах, пропуски отсутствуют. Особенности данных следующие:     \n",
        "- В каждой из таблиц обнаружены дубли скважин по id: 10 в таблице geo_data_0 и по 4 в таблицах geo_data_1 и geo_data_2. При этом значения признаков для дублей отличаются от оригиналов. Возможная причина данной проблемы - ошибочное именование скважин уже используемыми id на этапе сбора и подготовки данных. Указанные дубли из таблиц не удалялись, однако номера id дублей сохранены в отдельные переменные для предоставления заказчику.     \n",
        "- Распределения признаков f0, f1 и f2 различаются в каждом из датасетов, при этом различия наблюдаются как в характере распределений, так и в диапазоне значений признаков. Из чего мы сделали вывод, что либо в каждом из датасетов за указанными признаками скрываются разные характеристики скважин, либо данные признаки являются характеристиками региона по отношению к некоему эталону либо нулевому километру. Тем не менее, на качество иссследования обнаруженные различия повлиять не должны;    \n",
        "- Признак f2 в geo_data_0 и geo_data_2 имеет почти идеально нормальное распределение, в то время как в geo_data_1 его значения сгруппировались вокруг шести цифр от 0 до 5 включительно;     \n",
        "- Запасы нефти в geo_data_1 также распределились вокруг шести конкретных значений. Это связано с высоким влиянием признака f2 (коэффициент корреляции 0.98). Из чего мы сделали вывод, что в датасете geo_data_1 указаны не реальные, а предсказанные запасы нефти, причем признак f2 является определяющим для этого предсказания;     \n",
        "- В остальных датасетах признак f2 также является наиболее сильно связанным с целевым запасом нефти, однако там его влияние не так велико (коэффициенты корреляции 0.49 и 0.45 соответственно);     \n",
        "- Принято решение о возведении признаков f0 и f1 в датасете geo_data_2 в квадрат - это повысило коэффициенты корреляции между ними и целевым.     \n",
        "- Во всех датасетах обнаружены скважины с нулевыми запасами нефти. В geo_data_0 и geo_data_2 их по 1 штуке, а вот в geo_data_1 чуть более 8% от всего датасета. Пустые скажины не исключались, так как они требуются для обучения моделей, а также для оценки прибыльности регионов."
      ]
    },
    {
      "cell_type": "markdown",
      "metadata": {
        "id": "1AMkAN2-A3DK"
      },
      "source": [
        "## 2. Обучение и проверка модели"
      ]
    },
    {
      "cell_type": "markdown",
      "metadata": {
        "id": "QHS4oHesA3DL"
      },
      "source": [
        "### 2.1. Подготовка функций для работы с моделями"
      ]
    },
    {
      "cell_type": "markdown",
      "metadata": {
        "id": "RLwqKD4SA3DL"
      },
      "source": [
        "Напишем универсальную функцию для подготовки выборок, обучения модели и получения предсказания. Согласно условию заказчика, соотношение обучающей и тренировочной выборки должно быть 75:25, а модель - линейная регрессия. Все входные признаки у нас количественные, поэтому используем StandardScaler для стандартизации."
      ]
    },
    {
      "cell_type": "code",
      "execution_count": null,
      "metadata": {
        "id": "MOJUQoNbA3DM"
      },
      "outputs": [],
      "source": [
        "def linear_model(data):\n",
        "\n",
        "    RANDOM_STATE = 42\n",
        "\n",
        "    X = data.drop('product', axis=1)\n",
        "    y = data['product']\n",
        "\n",
        "    RANDOM_STATE = 42\n",
        "    TEST_SIZE = 0.25\n",
        "\n",
        "    X_train, X_test, y_train, y_test = train_test_split(\n",
        "    X,\n",
        "    y,\n",
        "    test_size = TEST_SIZE,\n",
        "    random_state = RANDOM_STATE)\n",
        "\n",
        "    scaler = StandardScaler()\n",
        "    X_train = scaler.fit_transform(X_train)\n",
        "    X_test = scaler.transform(X_test)\n",
        "\n",
        "    model_lr = LinearRegression()\n",
        "    model_lr.fit(X_train, y_train)\n",
        "\n",
        "    predictions = model_lr.predict(X_test)\n",
        "\n",
        "    return y_test, predictions"
      ]
    },
    {
      "cell_type": "markdown",
      "metadata": {
        "id": "gxb6G_ouA3DM"
      },
      "source": [
        "Напишем универсальную функцию для расчета значения метрики RMSE"
      ]
    },
    {
      "cell_type": "code",
      "execution_count": null,
      "metadata": {
        "id": "3kf_om46A3DM"
      },
      "outputs": [],
      "source": [
        "def rmse(y_test, y_pred):\n",
        "    return round(mean_squared_error(y_test, y_pred, squared=False),2)"
      ]
    },
    {
      "cell_type": "markdown",
      "metadata": {
        "id": "VdCKKxavA3DM"
      },
      "source": [
        "Универсальные функции готовы. Для каждого региона сделаем предсказание запасов сырья в скважинах на валидационной выборке, оценим RMSE модели и рассчитаем средний запас предсказанного сырья."
      ]
    },
    {
      "cell_type": "markdown",
      "metadata": {
        "id": "3J-9eJCIA3DM"
      },
      "source": [
        "### 2.2. Предсказание запасов сырья для первого региона (geo_data_0)"
      ]
    },
    {
      "cell_type": "markdown",
      "metadata": {
        "id": "HMRQH5SFA3DM"
      },
      "source": [
        "Обучим модель и сделаем предсказание для валидационной выборки первого региона. Рассчитаем RMSE."
      ]
    },
    {
      "cell_type": "code",
      "execution_count": null,
      "metadata": {
        "id": "4GeR5fkuA3DN",
        "outputId": "ae9879a9-4b09-4b33-de6e-497f920984e2"
      },
      "outputs": [
        {
          "name": "stdout",
          "output_type": "stream",
          "text": [
            "Значение RMSE для модели первого региона: 37.76\n"
          ]
        },
        {
          "name": "stderr",
          "output_type": "stream",
          "text": [
            "/opt/conda/lib/python3.9/site-packages/sklearn/metrics/_regression.py:483: FutureWarning: 'squared' is deprecated in version 1.4 and will be removed in 1.6. To calculate the root mean squared error, use the function'root_mean_squared_error'.\n",
            "  warnings.warn(\n"
          ]
        }
      ],
      "source": [
        "y_test0, y_pred0 = linear_model(geo_data_0)\n",
        "rmse0 = rmse(y_test0, y_pred0)\n",
        "print('Значение RMSE для модели первого региона:', rmse0)"
      ]
    },
    {
      "cell_type": "markdown",
      "metadata": {
        "id": "HOr9gO6rA3DN"
      },
      "source": [
        "RMSE получился очень высоким, модель плохо предсказала значения целевого признака. Сравним средний объем реального и предсказанного сырья"
      ]
    },
    {
      "cell_type": "code",
      "execution_count": null,
      "metadata": {
        "id": "ci6AYFtoA3DN",
        "outputId": "8ee2e591-c69b-4a95-d9c6-6779fcf3e365"
      },
      "outputs": [
        {
          "name": "stdout",
          "output_type": "stream",
          "text": [
            "Средний объем реального сырья на валидационной выборке:  92.32595637084387\n",
            "Средний объем предсказанного сырья на валидационной выборке:  92.39879990657768\n"
          ]
        }
      ],
      "source": [
        "mean_test0 = y_test0.mean()\n",
        "print('Средний объем реального сырья на валидационной выборке: ', mean_test0)\n",
        "mean_pred0 = y_pred0.mean()\n",
        "print('Средний объем предсказанного сырья на валидационной выборке: ', mean_pred0)"
      ]
    },
    {
      "cell_type": "markdown",
      "metadata": {
        "id": "ws8ZDAjZA3DN"
      },
      "source": [
        "А вот средние объемы почти совпадают. Посмотрим на графики распределений."
      ]
    },
    {
      "cell_type": "code",
      "execution_count": null,
      "metadata": {
        "id": "2aVVRL5pA3DN",
        "outputId": "4eb57d79-b832-4c85-8caa-4127a34def84"
      },
      "outputs": [
        {
          "data": {
            "image/png": "[encoded data removed]",
            "text/plain": [
              "<Figure size 432x288 with 1 Axes>"
            ]
          },
          "metadata": {
            "needs_background": "light"
          },
          "output_type": "display_data"
        }
      ],
      "source": [
        "sns.histplot(data=y_test0, bins=100, alpha=0.5, color='skyblue', label='реальный объем')\n",
        "sns.histplot(data=y_pred0, bins=100, alpha=0.5, color='blue', label='предсказанный объем')\n",
        "plt.xlabel('Объем сырья')\n",
        "plt.ylabel('Количество скважин')\n",
        "plt.title('Сравнение предсказанного и реального объема сырья на валидационной выборке')\n",
        "plt.legend()\n",
        "None"
      ]
    },
    {
      "cell_type": "markdown",
      "metadata": {
        "id": "0vKOWRQDA3DN"
      },
      "source": [
        "Реальные значения объема неравномерно разбросаны в широком диапазоне, в то время как предсказанные нормально распределилсь вокруг среднего. В целом график предсказаний представляет собой 'сжатый' график распределения реальных значений."
      ]
    },
    {
      "cell_type": "markdown",
      "metadata": {
        "id": "tl8--18PA3DO"
      },
      "source": [
        "### 2.3. Предсказание запасов сырья для второго региона (geo_data_1)"
      ]
    },
    {
      "cell_type": "code",
      "execution_count": null,
      "metadata": {
        "id": "eJPFwidNA3DO",
        "outputId": "4d13fb59-16ba-4d5d-9817-8e6ecc091892"
      },
      "outputs": [
        {
          "name": "stdout",
          "output_type": "stream",
          "text": [
            "Значение RMSE для модели второго региона: 0.89\n"
          ]
        },
        {
          "name": "stderr",
          "output_type": "stream",
          "text": [
            "/opt/conda/lib/python3.9/site-packages/sklearn/metrics/_regression.py:483: FutureWarning: 'squared' is deprecated in version 1.4 and will be removed in 1.6. To calculate the root mean squared error, use the function'root_mean_squared_error'.\n",
            "  warnings.warn(\n"
          ]
        }
      ],
      "source": [
        "y_test1, y_pred1 = linear_model(geo_data_1)\n",
        "rmse1 = rmse(y_test1, y_pred1)\n",
        "print('Значение RMSE для модели второго региона:', rmse1)"
      ]
    },
    {
      "cell_type": "markdown",
      "metadata": {
        "id": "4AhWcT57A3DO"
      },
      "source": [
        "RMSE очень низкий, модель хорошо справилась с предсказаниями целевого, но это и неудивительно - на этапе корреляционного анализа мы определили, что значения входного признака f2 очень сильно влияют на целевой. Сравним средние объемы."
      ]
    },
    {
      "cell_type": "code",
      "execution_count": null,
      "metadata": {
        "id": "BWDrAglpA3DO",
        "outputId": "36d1072b-f2e5-47c7-9018-f61a61703113"
      },
      "outputs": [
        {
          "name": "stdout",
          "output_type": "stream",
          "text": [
            "Средний объем реального сырья:  68.72538074722745\n",
            "Средний объем предсказанного сырья:  68.7128780391376\n"
          ]
        }
      ],
      "source": [
        "mean_test1 = y_test1.mean()\n",
        "print('Средний объем реального сырья: ', mean_test1)\n",
        "mean_pred1 = y_pred1.mean()\n",
        "print('Средний объем предсказанного сырья: ', mean_pred1)"
      ]
    },
    {
      "cell_type": "markdown",
      "metadata": {
        "id": "39Q5Vd4RA3DO"
      },
      "source": [
        "Разница заметна, начиная с сотых долей значений. Посмотрим график."
      ]
    },
    {
      "cell_type": "code",
      "execution_count": null,
      "metadata": {
        "id": "cDz1jht9A3DP",
        "outputId": "b53e4aa4-ba0f-4cab-be5a-75e613fcd77f"
      },
      "outputs": [
        {
          "data": {
            "image/png": "[encoded data removed]",
            "text/plain": [
              "<Figure size 432x288 with 1 Axes>"
            ]
          },
          "metadata": {
            "needs_background": "light"
          },
          "output_type": "display_data"
        }
      ],
      "source": [
        "sns.histplot(data=y_test1, bins=100, alpha=0.3, color='skyblue', label='реальный объем')\n",
        "sns.histplot(data=y_pred1, bins=100, alpha=0.3, color='blue', label='предсказанный объем')\n",
        "plt.xlabel('Объем сырья')\n",
        "plt.ylabel('Количество скважин')\n",
        "plt.title('Сравнение предсказанного и реального объема сырья на валидационной выборке')\n",
        "plt.legend(bbox_to_anchor=(1.5, 1.0), ncol=1)\n",
        "None"
      ]
    },
    {
      "cell_type": "markdown",
      "metadata": {
        "id": "bIAbVD8GA3DP"
      },
      "source": [
        "Струтура распределения предсказаний напоминает структуру распределения реальных значений - целевой признак распределился вокруг конкретных цифр. Существенное отличие - предсказания более усреднены по сравнению с реальными данными."
      ]
    },
    {
      "cell_type": "markdown",
      "metadata": {
        "id": "EzueWXQfA3DP"
      },
      "source": [
        "### 2.4. Предсказание запасов сырья для третьего региона (geo_data_2)"
      ]
    },
    {
      "cell_type": "code",
      "execution_count": null,
      "metadata": {
        "id": "1m6xuRAkA3DP",
        "outputId": "e5a7bcb2-8d81-440a-ba41-b6ad90fa580c"
      },
      "outputs": [
        {
          "name": "stdout",
          "output_type": "stream",
          "text": [
            "Значение RMSE для модели второго региона: 38.88\n"
          ]
        },
        {
          "name": "stderr",
          "output_type": "stream",
          "text": [
            "/opt/conda/lib/python3.9/site-packages/sklearn/metrics/_regression.py:483: FutureWarning: 'squared' is deprecated in version 1.4 and will be removed in 1.6. To calculate the root mean squared error, use the function'root_mean_squared_error'.\n",
            "  warnings.warn(\n"
          ]
        }
      ],
      "source": [
        "y_test2, y_pred2 = linear_model(geo_data_2)\n",
        "rmse2 = rmse(y_test2, y_pred2)\n",
        "print('Значение RMSE для модели второго региона:', rmse2)"
      ]
    },
    {
      "cell_type": "markdown",
      "metadata": {
        "id": "DMvntGpCA3DP"
      },
      "source": [
        "Как и в случае с первым регионом, RMSE очень высок. Предсказания далеки от реальности. Сравним средние объемы."
      ]
    },
    {
      "cell_type": "code",
      "execution_count": null,
      "metadata": {
        "id": "6DQHndCYA3DP",
        "outputId": "c8f1cf67-759e-40a9-cba9-510d635ead92"
      },
      "outputs": [
        {
          "name": "stdout",
          "output_type": "stream",
          "text": [
            "Средний объем реального сырья:  95.15099907171961\n",
            "Средний объем предсказанного сырья:  94.76063334974505\n"
          ]
        }
      ],
      "source": [
        "mean_test2 = y_test2.mean()\n",
        "print('Средний объем реального сырья: ', mean_test2)\n",
        "mean_pred2 = y_pred2.mean()\n",
        "print('Средний объем предсказанного сырья: ', mean_pred2)"
      ]
    },
    {
      "cell_type": "markdown",
      "metadata": {
        "id": "qan9kQPWA3DQ"
      },
      "source": [
        "Средний предсказанный объем чуть ниже реального. Сравним распределения."
      ]
    },
    {
      "cell_type": "code",
      "execution_count": null,
      "metadata": {
        "id": "fBrtKshjA3DQ",
        "outputId": "96caf99c-66c7-4c88-9f9b-d5ad3f8c3ad2"
      },
      "outputs": [
        {
          "data": {
            "image/png": "[encoded data removed]",
            "text/plain": [
              "<Figure size 432x288 with 1 Axes>"
            ]
          },
          "metadata": {
            "needs_background": "light"
          },
          "output_type": "display_data"
        }
      ],
      "source": [
        "sns.histplot(data=y_test2, bins=100, alpha=0.3, color='skyblue', label='реальный объем')\n",
        "sns.histplot(data=y_pred2, bins=100, alpha=0.3, color='blue', label='предсказанный объем')\n",
        "plt.xlabel('Объем сырья')\n",
        "plt.ylabel('Количество скважин')\n",
        "plt.title('Сравнение предсказанного и реального объема сырья на валидационной выборке')\n",
        "plt.legend()\n",
        "None"
      ]
    },
    {
      "cell_type": "markdown",
      "metadata": {
        "id": "n6qv1Cz7A3DQ"
      },
      "source": [
        "График напоминает аналогичный для первого региона. Реальные значения распределены неравномерно в широком диапазоне, а предсказания представляют почти нормальное распределение в более узких границах."
      ]
    },
    {
      "cell_type": "markdown",
      "metadata": {
        "id": "qZOssyx5A3DQ"
      },
      "source": [
        "### Промежуточный вывод"
      ]
    },
    {
      "cell_type": "markdown",
      "metadata": {
        "id": "XQhi_dmZA3DQ"
      },
      "source": [
        "Данные для каждого региона поделены на обучающую и валидационную выборки в соотношении 75:25. При помощи модели линейной регрессии сделаны предсказания объемов сырья на валидационных выборках. Оценка предсказаний осуществлена с использованием метрики RMSE.    \n",
        "\n",
        "Качество предсказаний для первого и третьего региона находится на очень низком уровне (RMSE 37.87 и 38.79), однако значения предсказаний распределились в том же диапазоне, что и реальный целевой признак. Среднее значение предсказаний близки к реальным данным.    \n",
        "Модель для второго региона, наоборот, показала высокий результат - RMSE равно 0.88. Среднее предсказаний почти идентично реальному среднему.    \n",
        "\n",
        "Итого средний предсказанный запас нефти на валидационной выборке составил:    \n",
        "92.39 для первого региона     \n",
        "68.71 для второго региона     \n",
        "94.76 для третьего региона"
      ]
    },
    {
      "cell_type": "markdown",
      "metadata": {
        "id": "8pOqbEEwA3DR"
      },
      "source": [
        "## 3. Подготовка к расчёту прибыли"
      ]
    },
    {
      "cell_type": "markdown",
      "metadata": {
        "id": "ZjCzhIw_A3DR"
      },
      "source": [
        "Подготовим переменные, необходимые для расчета прибыли. Сначала объединим реальные и предсказанные значения объемов сырья в таблицы для удобства дальнейшей работы."
      ]
    },
    {
      "cell_type": "code",
      "execution_count": null,
      "metadata": {
        "id": "nG-mNKqfA3DR"
      },
      "outputs": [],
      "source": [
        "reg0 = pd.DataFrame(zip(y_test0, y_pred0), columns = ['true', 'preds'])\n",
        "reg1 = pd.DataFrame(zip(y_test1, y_pred1), columns = ['true', 'preds'])\n",
        "reg2 = pd.DataFrame(zip(y_test2, y_pred2), columns = ['true', 'preds'])"
      ]
    },
    {
      "cell_type": "markdown",
      "metadata": {
        "id": "8pbmWakwA3DR"
      },
      "source": [
        "На разработку региона выделено 10 миллиардов рублей, под разработкой региона подразумевается разработка 200 скважин. Создадим основные переменные с константами для дальнейших расчетов и определим стоимость разработки 1 новой скважины."
      ]
    },
    {
      "cell_type": "code",
      "execution_count": null,
      "metadata": {
        "id": "EwKe_L_rA3DR",
        "outputId": "2676d270-4d0e-4804-8bd8-ba7071a4c433"
      },
      "outputs": [
        {
          "name": "stdout",
          "output_type": "stream",
          "text": [
            "Стоимость разработки новой скважины: 50000000.0 рублей\n"
          ]
        }
      ],
      "source": [
        "TOTAL_EXPENCES = 10_000_000_000 # бюджет на разработку региона\n",
        "TOTAL_WELL = 200 # количество скважин для разработки\n",
        "WELL_EXPENCE = TOTAL_EXPENCES /TOTAL_WELL # стоимость разработки 1 скважины\n",
        "BARREL_PRICE = 450_000 # стоимость 1000 баррелей\n",
        "print(f'Стоимость разработки новой скважины: {WELL_EXPENCE} рублей')"
      ]
    },
    {
      "cell_type": "markdown",
      "metadata": {
        "id": "AwaGNjcEA3DR"
      },
      "source": [
        "Прибыль рассчитывается по формуле    \n",
        "***Чистая прибыль = Операционная прибыль - налоги - обслуживание долга***    \n",
        "где     \n",
        "***Операционная прибыль = Валовая прибыль – операционные расходы     \n",
        "Валовая прибыль = оборот - себестоимость***    \n",
        "\n",
        "Налоги и обслуживание долга заказчик не указал, будем считать, что эти показатели включены в бюджет на разработку скважин.    \n",
        "Операционные расходы и себестоимость включены в бюджет на разработку скважин. Исходя из этого, напишем функцию рассчета прибыли при разработке новой скважины. Найдем точку безубыточности, т.е. тот объем сырья, при котором доходы будут равны расходам."
      ]
    },
    {
      "cell_type": "code",
      "execution_count": null,
      "metadata": {
        "id": "wBdVVoEQA3DS",
        "outputId": "ee6ef1b6-571f-4c7a-aae2-0ffedbc3cdbd"
      },
      "outputs": [
        {
          "name": "stdout",
          "output_type": "stream",
          "text": [
            "Минимум сырья для безубыточности: 111.11111111111111 тысяч баррелей\n"
          ]
        }
      ],
      "source": [
        "null_size = (0 + WELL_EXPENCE) / BARREL_PRICE\n",
        "print(f'Минимум сырья для безубыточности: {null_size} тысяч баррелей')"
      ]
    },
    {
      "cell_type": "markdown",
      "metadata": {
        "id": "NBBa8hglA3DS"
      },
      "source": [
        "Сравним средние значения объемов сырья в каждом регионе с полученным значением безубыточности."
      ]
    },
    {
      "cell_type": "code",
      "execution_count": null,
      "metadata": {
        "id": "D6t3VT5rA3DS",
        "outputId": "5a128a89-7bd0-48ed-8c80-e4d05c2c8957"
      },
      "outputs": [
        {
          "name": "stdout",
          "output_type": "stream",
          "text": [
            "Средний объем сырья в первом регионе: 92.32595637084387 тысяч баррелей\n",
            "Средний объем сырья во втором регионе: 68.72538074722745 тысяч баррелей\n",
            "Средний объем сырья в третьем регионе: 95.15099907171961 тысяч баррелей\n",
            "Минимум сырья для безубыточности: 111.11111111111111 тысяч баррелей\n"
          ]
        }
      ],
      "source": [
        "print(f'Средний объем сырья в первом регионе: {mean_test0} тысяч баррелей')\n",
        "print(f'Средний объем сырья во втором регионе: {mean_test1} тысяч баррелей')\n",
        "print(f'Средний объем сырья в третьем регионе: {mean_test2} тысяч баррелей')\n",
        "print(f'Минимум сырья для безубыточности: {null_size} тысяч баррелей')"
      ]
    },
    {
      "cell_type": "markdown",
      "metadata": {
        "id": "kk5ZfaiiA3DS"
      },
      "source": [
        "Для безубыточной разработки скважины требуется, чтобы она содержала не менее 111.11 баррелей нефти. При таком значении доходы будут равны расходам. Если нас интересует получение чистой прибыли, то количество сырья должно быть больше указанного значения. Если ориентироваться только на средний объем сырья, то ни один из регионов не подходит для разработки, а значит требуются дополнительные методы для оценки прибыльности регионов."
      ]
    },
    {
      "cell_type": "markdown",
      "metadata": {
        "id": "ZeRplxerA3DS"
      },
      "source": [
        "## 4. Расчёт прибыли и рисков"
      ]
    },
    {
      "cell_type": "markdown",
      "metadata": {
        "id": "BDs6-ZukA3DT"
      },
      "source": [
        "### 4.1. Расчёт прибыли по лучшим скважинам"
      ]
    },
    {
      "cell_type": "markdown",
      "metadata": {
        "id": "ROOTpf5lA3DT"
      },
      "source": [
        "Для каждого региона необходимо отобрать 200 скважин с самыми высокими значениями предсказаний, просуммировать по ним реальный объем, а затем посчитать прибыль. Напишем функцию для расчета прибыли с учетом указанных условий."
      ]
    },
    {
      "cell_type": "code",
      "execution_count": null,
      "metadata": {
        "id": "Zfr9KCdwA3DT"
      },
      "outputs": [],
      "source": [
        "def reg_profit(data):\n",
        "    pred_sorted = data['preds'].sort_values(ascending=False)\n",
        "    selected = data['true']\n",
        "    selected = selected[pred_sorted.index][:TOTAL_WELL]\n",
        "    return round(selected.sum()*BARREL_PRICE - TOTAL_EXPENCES, 2)"
      ]
    },
    {
      "cell_type": "markdown",
      "metadata": {
        "id": "4g62HcjOA3DT"
      },
      "source": [
        "Посчитаем прибыль для каждого региона с учетом запасов в 200 лучших скважинах."
      ]
    },
    {
      "cell_type": "code",
      "execution_count": null,
      "metadata": {
        "id": "OfZVZvrQA3DT",
        "outputId": "b9447bc1-6925-4a8c-9b3d-8df932569f6d"
      },
      "outputs": [
        {
          "name": "stdout",
          "output_type": "stream",
          "text": [
            "Прибыль с 200 лучших скважин первого региона - 3359141114.46 рублей\n",
            "Прибыль с 200 лучших скважин второго региона - 2415086696.68 рублей\n",
            "Прибыль с 200 лучших скважин третьего региона - 2852369935.39 рублей\n"
          ]
        }
      ],
      "source": [
        "print(f'Прибыль с 200 лучших скважин первого региона - {reg_profit(reg0)} рублей')\n",
        "print(f'Прибыль с 200 лучших скважин второго региона - {reg_profit(reg1)} рублей')\n",
        "print(f'Прибыль с 200 лучших скважин третьего региона - {reg_profit(reg2)} рублей')"
      ]
    },
    {
      "cell_type": "markdown",
      "metadata": {
        "id": "hf5tngsrA3DU"
      },
      "source": [
        "Самым выгодным для разработки является первый регион (geo_data_0), а наименьшая прибыль может быть получена с 200 лучших скважин второго региона. Но это при условии, что мы целеноправленно отберем 200 лучших скважин в регионе и будем разрабатывать конкретно их. Используем иные методы для оценки прибыльности регионов.   "
      ]
    },
    {
      "cell_type": "markdown",
      "metadata": {
        "id": "MJ42a_CYA3DU"
      },
      "source": [
        "### 4.2. Применение техники Bootstrap и расчет доверительных интервалов"
      ]
    },
    {
      "cell_type": "markdown",
      "metadata": {
        "id": "7wAA4fMNA3DU"
      },
      "source": [
        "Применим технику Bootstrap, чтобы найти распределение прибыли. Использовать будем 1000 выборок по 500 скважин, в каждой из которых отберем 200 лучших. Создадим функцию для бутстрепа."
      ]
    },
    {
      "cell_type": "code",
      "execution_count": null,
      "metadata": {
        "id": "SlO_k31lA3DU"
      },
      "outputs": [],
      "source": [
        "def boot(data):\n",
        "    state = np.random.RandomState(12345)\n",
        "    values = []\n",
        "    for i in range(1000):\n",
        "        subsample = data.sample(n=500, replace=True, random_state=state)\n",
        "        values.append(reg_profit(subsample))\n",
        "    return values"
      ]
    },
    {
      "cell_type": "markdown",
      "metadata": {
        "id": "7B0h2xOQA3DU"
      },
      "source": [
        "Найдем распределение прибыли для каждого региона"
      ]
    },
    {
      "cell_type": "code",
      "execution_count": null,
      "metadata": {
        "id": "nVNwsC7ZA3DV"
      },
      "outputs": [],
      "source": [
        "profit_reg0 = boot(reg0)\n",
        "profit_reg1 = boot(reg1)\n",
        "profit_reg2 = boot(reg2)"
      ]
    },
    {
      "cell_type": "markdown",
      "metadata": {
        "id": "dbFCkHHNA3DV"
      },
      "source": [
        "Визуализируем полученные распределения"
      ]
    },
    {
      "cell_type": "code",
      "execution_count": null,
      "metadata": {
        "id": "cuMNT5D3A3DV",
        "outputId": "fb565a4c-f323-432a-b026-03af905c0630"
      },
      "outputs": [
        {
          "data": {
            "image/png": "[encoded data removed]",
            "text/plain": [
              "<Figure size 1440x504 with 3 Axes>"
            ]
          },
          "metadata": {
            "needs_background": "light"
          },
          "output_type": "display_data"
        }
      ],
      "source": [
        "regs = [profit_reg0, profit_reg1, profit_reg2]\n",
        "fig, axes = plt.subplots(nrows=1, ncols=3, figsize=(20,7))\n",
        "plt.subplots_adjust(wspace=0.5, hspace=0.5)\n",
        "axe = axes.ravel()\n",
        "i=0\n",
        "n=1\n",
        "for reg in regs:\n",
        "    sns.histplot(reg, bins=100, ax=axe[i])\n",
        "    axe[i].set_title(f'Распределение прибыли в регионе {n}')\n",
        "    axe[i].set_xlabel('Прибыль, рублей')\n",
        "    axe[i].set_ylabel('Выборки')\n",
        "    i+=1\n",
        "    n+=1"
      ]
    },
    {
      "cell_type": "markdown",
      "metadata": {
        "id": "8aI5CGo0A3DV"
      },
      "source": [
        "На графиках самым привлекательным выглядит третий регион, т.к. там минимум выборок с отрицательной прибылью и есть возможность получить самую высокую прибыль. А вот первый регион выглядит наименее прибыльным. Посчитаем среднюю прибыль для каждого региона."
      ]
    },
    {
      "cell_type": "code",
      "execution_count": null,
      "metadata": {
        "id": "iIw6baTfA3DV",
        "outputId": "99b7f6a3-0c72-45a2-9cec-548012d26614"
      },
      "outputs": [
        {
          "name": "stdout",
          "output_type": "stream",
          "text": [
            "Средняя прибыль для первого региона - 435933772.14 рублей\n",
            "Средняя прибыль для второго региона - 489661254.41 рублей\n",
            "Средняя прибыль для третьего региона - 603541734.65 рублей\n"
          ]
        }
      ],
      "source": [
        "reg_mean0 = round(sum(profit_reg0)/len(profit_reg0), 2)\n",
        "reg_mean1 = round(sum(profit_reg1)/len(profit_reg1), 2)\n",
        "reg_mean2 = round(sum(profit_reg2)/len(profit_reg2), 2)\n",
        "print(f'Средняя прибыль для первого региона - {reg_mean0} рублей')\n",
        "print(f'Средняя прибыль для второго региона - {reg_mean1} рублей')\n",
        "print(f'Средняя прибыль для третьего региона - {reg_mean2} рублей')"
      ]
    },
    {
      "cell_type": "markdown",
      "metadata": {
        "id": "3OS7buoEA3DV"
      },
      "source": [
        "Самая высокое значение средней прибыли соответствует третьему региону.    \n",
        "\n",
        "Построим 95% доверительный интервал для каждого региона, т.е. тот диапазон распределения прибыли, в которой с вероятностью 95% попадет истинное значение прибыли случайно выбранного месторождения данного региона."
      ]
    },
    {
      "cell_type": "code",
      "execution_count": null,
      "metadata": {
        "id": "mCgrEc8CA3DW",
        "outputId": "8e493630-01a7-46d9-921f-b149ddc97281"
      },
      "outputs": [
        {
          "name": "stdout",
          "output_type": "stream",
          "text": [
            "95%-й доверительный интервал для первого региона: -116231612.78 - 966504180.71\n",
            "95%-й доверительный интервал для второго региона: 55116177.28 - 905762650.42\n",
            "95%-й доверительный интервал для третьего региона: 93903301.05 - 1135701073.8\n"
          ]
        }
      ],
      "source": [
        "profit_reg0 = pd.Series(profit_reg0).sort_values(ascending=True)\n",
        "profit_reg1 = pd.Series(profit_reg1).sort_values(ascending=True)\n",
        "profit_reg2 = pd.Series(profit_reg2).sort_values(ascending=True)\n",
        "conf_int_0_1 = round(profit_reg0.quantile(0.025), 2)\n",
        "conf_int_0_2 = round(profit_reg0.quantile(0.975), 2)\n",
        "conf_int_1_1 = round(profit_reg1.quantile(0.025), 2)\n",
        "conf_int_1_2 = round(profit_reg1.quantile(0.975), 2)\n",
        "conf_int_2_1 = round(profit_reg2.quantile(0.025), 2)\n",
        "conf_int_2_2 = round(profit_reg2.quantile(0.975), 2)\n",
        "print(f'95%-й доверительный интервал для первого региона: {conf_int_0_1} - {conf_int_0_2}')\n",
        "print(f'95%-й доверительный интервал для второго региона: {conf_int_1_1} - {conf_int_1_2}')\n",
        "print(f'95%-й доверительный интервал для третьего региона: {conf_int_2_1} - {conf_int_2_2}')"
      ]
    },
    {
      "cell_type": "markdown",
      "metadata": {
        "id": "p6RNeRYbA3DW"
      },
      "source": [
        "Значения границ 95%-го доверительного интервала распределения прибыли для третьего региона значительно выше, чем для первых двух. С точки зрения получения максимальной прибыли он однозначно лучше. Осталось только оценить риски убытков.    \n",
        "\n",
        "Для оценки риска убытка в регионе нам нужно найти значение нижнего квантиля, после которого достигается точка безубыточности. Регион, в котором это значение будет наименьшим, можно считать наименее рискованным. Найдем такой квантиль для каждого региона."
      ]
    },
    {
      "cell_type": "code",
      "execution_count": null,
      "metadata": {
        "id": "5LvFr4ijA3DW",
        "outputId": "cd9b8e46-3646-4fc9-9e5d-95a9c5d3b675"
      },
      "outputs": [
        {
          "name": "stdout",
          "output_type": "stream",
          "text": [
            "[0.06100000000000005, 0.011000000000000003, 0.007]\n"
          ]
        }
      ],
      "source": [
        "regions = [profit_reg0, profit_reg1, profit_reg2]\n",
        "quantiles = []\n",
        "for reg in regions:\n",
        "    quan = 0.001\n",
        "    lower = reg.quantile(quan)\n",
        "    while lower < 0:\n",
        "        lower = reg.quantile(quan+0.001)\n",
        "        if lower > 0:\n",
        "            quantiles.append(quan)\n",
        "            break\n",
        "        else:\n",
        "            quan += 0.001\n",
        "print(quantiles)"
      ]
    },
    {
      "cell_type": "markdown",
      "metadata": {
        "id": "b2XeeEMbA3DW"
      },
      "source": [
        "<a id='вопрос'></a>"
      ]
    },
    {
      "cell_type": "markdown",
      "metadata": {
        "id": "kWFOX2XoA3DW"
      },
      "source": [
        "Нижние квантили найдены. Самый прибыльный регион с минимальным риском убытков уже понятен, но для наглядности сведем все данные в единую таблицу."
      ]
    },
    {
      "cell_type": "code",
      "execution_count": null,
      "metadata": {
        "id": "KkVP_P0xA3DX",
        "outputId": "7129bc22-5062-4153-f83e-10a94be0a76c"
      },
      "outputs": [
        {
          "data": {
            "text/html": [
              "<div>\n",
              "<style scoped>\n",
              "    .dataframe tbody tr th:only-of-type {\n",
              "        vertical-align: middle;\n",
              "    }\n",
              "\n",
              "    .dataframe tbody tr th {\n",
              "        vertical-align: top;\n",
              "    }\n",
              "\n",
              "    .dataframe thead th {\n",
              "        text-align: right;\n",
              "    }\n",
              "</style>\n",
              "<table border=\"1\" class=\"dataframe\">\n",
              "  <thead>\n",
              "    <tr style=\"text-align: right;\">\n",
              "      <th></th>\n",
              "      <th>Категория для сравнения</th>\n",
              "      <th>Первый регион</th>\n",
              "      <th>Второй регион</th>\n",
              "      <th>Третий регион</th>\n",
              "    </tr>\n",
              "  </thead>\n",
              "  <tbody>\n",
              "    <tr>\n",
              "      <th>0</th>\n",
              "      <td>Средняя прибыль, тыс руб</td>\n",
              "      <td>435933.77</td>\n",
              "      <td>489661.25</td>\n",
              "      <td>603541.73</td>\n",
              "    </tr>\n",
              "    <tr>\n",
              "      <th>1</th>\n",
              "      <td>95-й доверительный интервал, нижняя граница, тыс руб</td>\n",
              "      <td>-116231.61</td>\n",
              "      <td>55116.18</td>\n",
              "      <td>93903.30</td>\n",
              "    </tr>\n",
              "    <tr>\n",
              "      <th>2</th>\n",
              "      <td>95-й доверительный интервал, верхняя граница, тыс руб</td>\n",
              "      <td>966504.18</td>\n",
              "      <td>905762.65</td>\n",
              "      <td>1135701.07</td>\n",
              "    </tr>\n",
              "    <tr>\n",
              "      <th>3</th>\n",
              "      <td>Вероятность убытка, %</td>\n",
              "      <td>6.00</td>\n",
              "      <td>1.00</td>\n",
              "      <td>0.60</td>\n",
              "    </tr>\n",
              "  </tbody>\n",
              "</table>\n",
              "</div>"
            ],
            "text/plain": [
              "                                 Категория для сравнения  Первый регион  \\\n",
              "0                               Средняя прибыль, тыс руб      435933.77   \n",
              "1   95-й доверительный интервал, нижняя граница, тыс руб     -116231.61   \n",
              "2  95-й доверительный интервал, верхняя граница, тыс руб      966504.18   \n",
              "3                                  Вероятность убытка, %           6.00   \n",
              "\n",
              "   Второй регион  Третий регион  \n",
              "0      489661.25      603541.73  \n",
              "1       55116.18       93903.30  \n",
              "2      905762.65     1135701.07  \n",
              "3           1.00           0.60  "
            ]
          },
          "metadata": {},
          "output_type": "display_data"
        }
      ],
      "source": [
        "pd.set_option('max_colwidth', 120)\n",
        "final = pd.DataFrame([['Средняя прибыль, тыс руб', round(reg_mean0/1000, 2), round(reg_mean1/1000, 2), round(reg_mean2/1000, 2)],\n",
        "                      ['95-й доверительный интервал, нижняя граница, тыс руб', round(conf_int_0_1/1000, 2),\n",
        "                       round(conf_int_1_1/1000, 2), round(conf_int_2_1/1000, 2)],\n",
        "                       ['95-й доверительный интервал, верхняя граница, тыс руб', round(conf_int_0_2/1000, 2),\n",
        "                       round(conf_int_1_2/1000, 2), round(conf_int_2_2/1000, 2)],\n",
        "                      ['Вероятность убытка, %', quantiles[0]*100, quantiles[1]*100, quantiles[2]*100]],\n",
        "                    columns=['Категория для сравнения', 'Первый регион', 'Второй регион', 'Третий регион'])\n",
        "display(final)"
      ]
    },
    {
      "cell_type": "markdown",
      "metadata": {
        "id": "JYakO9ELA3DX"
      },
      "source": [
        "Первый регион не подходит для разработки из-за высокого риска убытков - 6%. К тому же здесь самые низкие значения границ 95%-го доверительного интервала. Во втором регионе, несмотря на большое количество пустых скважин, риск убытков всего 1%, что соответствует требованиям заказчика, а границы доверительного интервала выше, чем у первого региона. К разработке же мы рекомендуем третий регион. Риск убытков здесь минимален (0.6%), средняя прибыль и доверительный интервал самые высокие."
      ]
    },
    {
      "cell_type": "markdown",
      "metadata": {
        "id": "ZFnTWztQA3DX"
      },
      "source": [
        "## Общий вывод исследования"
      ]
    },
    {
      "cell_type": "markdown",
      "metadata": {
        "id": "2d2npA3DA3DX"
      },
      "source": [
        "В рамках данного проекта необходимо было решить следующую задачу - исследовать данные о скважинах и запах нефти в 3 регионах и выбрать регион, добыча нефти в котором принесет максимальную прибыль при минимальных рисках.    \n",
        "\n",
        "Для решения задачи заказчик предоставил данные о 3 регионах, в каждом по 100000 скважин.    \n",
        "\n",
        "Сначала опишем качество исходных данных.\n",
        "\n",
        "**Исходные данные**    \n",
        "\n",
        "В целом качество данных можно охарактеризовать как высокое. Пропуски и полные дубли отсутствуют, содержание таблиц соответствует описанию. Но есть замечания:     \n",
        "- В каждой из таблиц обнаружены дубли скважин по id: 10 в таблице geo_data_0 и по 4 в таблицах geo_data_1 и geo_data_2. При этом значения признаков для дублей отличаются от оригиналов. Возможная причина данной проблемы - ошибочное именование скважин уже используемыми id на этапе сбора и подготовки данных. Указанные дубли из таблиц не удалялись, однако номера id дублей сохранены в отдельные переменные dup_id0, dup_id1 и dup_id2.\n",
        "- Распределения признаков f0, f1 и f2 различаются в каждом из датасетов, при этом различия наблюдаются как в характере распределений, так и в диапазоне значений признаков. Из чего мы сделали вывод, что либо в каждом из датасетов за указанными признаками скрываются разные характеристики скважин, либо данные признаки являются характеристиками региона по отношению к некоему эталону либо нулевому километру.     \n",
        "- Во всех датасетах обнаружены скважины с нулевыми запасами нефти. В geo_data_0 и geo_data_2 их по 1 штуке, а вот в geo_data_1 чуть более 8% от всего датасета. Пустые скажины не исключались, так как они потребовались для обучения моделей, а также для оценки прибыльности регионов.     \n",
        "\n",
        "**Результаты исследования**\n",
        "\n",
        "Определено, что для безубыточной разработки скважины она должна содержать не менее 111.11 тысяч баррелей нефти. Это при условии, что в бюджет на разработку скважин включены все операционные расходы (включая налоги). При таком значении доходы будут равны расходам. Если нас интересует получение чистой прибыли, то количество сырья должно быть больше указанного значения.   \n",
        "\n",
        "Средний объем сырья:\n",
        "- в первом регионе - 92.33 тысяч баррелей\n",
        "- во втором регионе: 68.73 тысяч баррелей\n",
        "- в третьем регионе: 95.15 тысяч баррелей      \n",
        "\n",
        "Как видно, если ориентироваться только на среднее, то ни один из регионов не подходит для разработки.    \n",
        "\n",
        "Тем не менее, в регионах есть прибыльные скважины с крупными запасами нефти, к тому же заказчик планирует разрабатывать не все скважины региона, а только 200. В связи с этим была проведена оценка прибыльности регионов с помощью методов ML, техники Bootstrap и доверительных интервалов. Результаты можно видеть в таблице ниже."
      ]
    },
    {
      "cell_type": "code",
      "execution_count": null,
      "metadata": {
        "scrolled": true,
        "id": "fRQSx8VzA3DX",
        "outputId": "32e631fc-dc23-4330-f01f-f73cd72f9bf1"
      },
      "outputs": [
        {
          "data": {
            "text/html": [
              "<div>\n",
              "<style scoped>\n",
              "    .dataframe tbody tr th:only-of-type {\n",
              "        vertical-align: middle;\n",
              "    }\n",
              "\n",
              "    .dataframe tbody tr th {\n",
              "        vertical-align: top;\n",
              "    }\n",
              "\n",
              "    .dataframe thead th {\n",
              "        text-align: right;\n",
              "    }\n",
              "</style>\n",
              "<table border=\"1\" class=\"dataframe\">\n",
              "  <thead>\n",
              "    <tr style=\"text-align: right;\">\n",
              "      <th></th>\n",
              "      <th>Категория для сравнения</th>\n",
              "      <th>Первый регион</th>\n",
              "      <th>Второй регион</th>\n",
              "      <th>Третий регион</th>\n",
              "    </tr>\n",
              "  </thead>\n",
              "  <tbody>\n",
              "    <tr>\n",
              "      <th>0</th>\n",
              "      <td>Средняя прибыль, тыс руб</td>\n",
              "      <td>435933.77</td>\n",
              "      <td>489661.25</td>\n",
              "      <td>603541.73</td>\n",
              "    </tr>\n",
              "    <tr>\n",
              "      <th>1</th>\n",
              "      <td>95-й доверительный интервал, нижняя граница, тыс руб</td>\n",
              "      <td>-116231.61</td>\n",
              "      <td>55116.18</td>\n",
              "      <td>93903.30</td>\n",
              "    </tr>\n",
              "    <tr>\n",
              "      <th>2</th>\n",
              "      <td>95-й доверительный интервал, верхняя граница, тыс руб</td>\n",
              "      <td>966504.18</td>\n",
              "      <td>905762.65</td>\n",
              "      <td>1135701.07</td>\n",
              "    </tr>\n",
              "    <tr>\n",
              "      <th>3</th>\n",
              "      <td>Вероятность убытка, %</td>\n",
              "      <td>6.00</td>\n",
              "      <td>1.00</td>\n",
              "      <td>0.60</td>\n",
              "    </tr>\n",
              "  </tbody>\n",
              "</table>\n",
              "</div>"
            ],
            "text/plain": [
              "                                 Категория для сравнения  Первый регион  \\\n",
              "0                               Средняя прибыль, тыс руб      435933.77   \n",
              "1   95-й доверительный интервал, нижняя граница, тыс руб     -116231.61   \n",
              "2  95-й доверительный интервал, верхняя граница, тыс руб      966504.18   \n",
              "3                                  Вероятность убытка, %           6.00   \n",
              "\n",
              "   Второй регион  Третий регион  \n",
              "0      489661.25      603541.73  \n",
              "1       55116.18       93903.30  \n",
              "2      905762.65     1135701.07  \n",
              "3           1.00           0.60  "
            ]
          },
          "metadata": {},
          "output_type": "display_data"
        }
      ],
      "source": [
        "display(final)"
      ]
    },
    {
      "cell_type": "markdown",
      "metadata": {
        "id": "BjyY_bqgA3DY"
      },
      "source": [
        "Для разработки рекомендован 3-й регион (таблица geo_data_2). С 95% вероятностью средняя прибыль с разработки 200 скважин находится в диапазоне от 93903.30 до 1135701.07 тыс руб. При этом вероятность понести убытки менее 1%."
      ]
    }
  ],
  "metadata": {
    "ExecuteTimeLog": [
      {
        "duration": 412,
        "start_time": "2024-04-12T17:19:49.276Z"
      },
      {
        "duration": 1214,
        "start_time": "2024-04-12T17:22:04.661Z"
      },
      {
        "duration": 26,
        "start_time": "2024-04-12T17:22:59.804Z"
      },
      {
        "duration": 57,
        "start_time": "2024-04-12T17:24:34.618Z"
      },
      {
        "duration": 55,
        "start_time": "2024-04-12T17:24:48.883Z"
      },
      {
        "duration": 60,
        "start_time": "2024-04-12T17:25:40.473Z"
      },
      {
        "duration": 79,
        "start_time": "2024-04-12T17:26:36.937Z"
      },
      {
        "duration": 65,
        "start_time": "2024-04-12T17:26:52.303Z"
      },
      {
        "duration": 55,
        "start_time": "2024-04-12T17:26:59.155Z"
      },
      {
        "duration": 67,
        "start_time": "2024-04-12T17:28:16.558Z"
      },
      {
        "duration": 56,
        "start_time": "2024-04-12T17:28:29.977Z"
      },
      {
        "duration": 54,
        "start_time": "2024-04-12T17:32:16.736Z"
      },
      {
        "duration": 51,
        "start_time": "2024-04-12T17:32:39.394Z"
      },
      {
        "duration": 117,
        "start_time": "2024-04-12T17:42:47.120Z"
      },
      {
        "duration": 56,
        "start_time": "2024-04-12T17:44:30.088Z"
      },
      {
        "duration": 14,
        "start_time": "2024-04-12T17:45:43.763Z"
      },
      {
        "duration": 21,
        "start_time": "2024-04-12T17:47:12.404Z"
      },
      {
        "duration": 10,
        "start_time": "2024-04-12T17:47:59.907Z"
      },
      {
        "duration": 10,
        "start_time": "2024-04-12T17:48:25.557Z"
      },
      {
        "duration": 17,
        "start_time": "2024-04-12T18:09:02.754Z"
      },
      {
        "duration": 29,
        "start_time": "2024-04-12T18:10:23.495Z"
      },
      {
        "duration": 26,
        "start_time": "2024-04-12T18:11:01.641Z"
      },
      {
        "duration": 25,
        "start_time": "2024-04-12T18:11:20.712Z"
      },
      {
        "duration": 24,
        "start_time": "2024-04-12T18:13:17.347Z"
      },
      {
        "duration": 31,
        "start_time": "2024-04-12T18:23:39.981Z"
      },
      {
        "duration": 33,
        "start_time": "2024-04-12T18:24:08.187Z"
      },
      {
        "duration": 29,
        "start_time": "2024-04-12T18:24:32.653Z"
      },
      {
        "duration": 27,
        "start_time": "2024-04-12T18:24:42.861Z"
      },
      {
        "duration": 29,
        "start_time": "2024-04-12T18:25:00.395Z"
      },
      {
        "duration": 28,
        "start_time": "2024-04-12T18:25:16.461Z"
      },
      {
        "duration": 31,
        "start_time": "2024-04-12T18:26:19.046Z"
      },
      {
        "duration": 409,
        "start_time": "2024-04-14T10:35:06.647Z"
      },
      {
        "duration": 1192,
        "start_time": "2024-04-14T10:35:07.058Z"
      },
      {
        "duration": 60,
        "start_time": "2024-04-14T10:35:08.251Z"
      },
      {
        "duration": 128,
        "start_time": "2024-04-14T10:35:08.313Z"
      },
      {
        "duration": 44,
        "start_time": "2024-04-14T10:35:08.443Z"
      },
      {
        "duration": 27,
        "start_time": "2024-04-14T10:35:08.489Z"
      },
      {
        "duration": 44,
        "start_time": "2024-04-14T10:35:08.518Z"
      },
      {
        "duration": 909,
        "start_time": "2024-04-14T10:36:15.697Z"
      },
      {
        "duration": 2,
        "start_time": "2024-04-14T10:40:33.775Z"
      },
      {
        "duration": 8,
        "start_time": "2024-04-14T10:42:31.482Z"
      },
      {
        "duration": 1599,
        "start_time": "2024-04-14T10:43:30.816Z"
      },
      {
        "duration": 6,
        "start_time": "2024-04-14T10:44:17.439Z"
      },
      {
        "duration": 1672,
        "start_time": "2024-04-14T10:44:19.605Z"
      },
      {
        "duration": 5,
        "start_time": "2024-04-14T10:45:07.603Z"
      },
      {
        "duration": 1935,
        "start_time": "2024-04-14T10:45:10.417Z"
      },
      {
        "duration": 1817,
        "start_time": "2024-04-14T10:59:13.242Z"
      },
      {
        "duration": 99,
        "start_time": "2024-04-14T11:25:00.691Z"
      },
      {
        "duration": 4240,
        "start_time": "2024-04-14T11:27:50.643Z"
      },
      {
        "duration": 4540,
        "start_time": "2024-04-14T11:30:35.267Z"
      },
      {
        "duration": 20,
        "start_time": "2024-04-14T12:08:54.851Z"
      },
      {
        "duration": 10,
        "start_time": "2024-04-14T12:09:09.172Z"
      },
      {
        "duration": 7,
        "start_time": "2024-04-14T12:09:21.018Z"
      },
      {
        "duration": 10,
        "start_time": "2024-04-14T12:10:15.472Z"
      },
      {
        "duration": 12,
        "start_time": "2024-04-14T12:10:36.373Z"
      },
      {
        "duration": 109,
        "start_time": "2024-04-14T12:10:55.911Z"
      },
      {
        "duration": 8,
        "start_time": "2024-04-14T12:11:07.095Z"
      },
      {
        "duration": 9,
        "start_time": "2024-04-14T12:11:37.828Z"
      },
      {
        "duration": 9,
        "start_time": "2024-04-14T12:12:05.779Z"
      },
      {
        "duration": 14,
        "start_time": "2024-04-14T12:12:14.826Z"
      },
      {
        "duration": 16,
        "start_time": "2024-04-14T12:12:59.483Z"
      },
      {
        "duration": 8,
        "start_time": "2024-04-14T12:13:02.676Z"
      },
      {
        "duration": 18,
        "start_time": "2024-04-14T12:14:50.979Z"
      },
      {
        "duration": 22,
        "start_time": "2024-04-14T12:15:19.885Z"
      },
      {
        "duration": 11,
        "start_time": "2024-04-14T12:15:21.936Z"
      },
      {
        "duration": 10,
        "start_time": "2024-04-14T12:15:27.099Z"
      },
      {
        "duration": 20,
        "start_time": "2024-04-14T12:15:36.647Z"
      },
      {
        "duration": 8,
        "start_time": "2024-04-14T12:15:55.126Z"
      },
      {
        "duration": 26,
        "start_time": "2024-04-14T12:16:03.147Z"
      },
      {
        "duration": 542,
        "start_time": "2024-04-14T12:31:51.286Z"
      },
      {
        "duration": 403,
        "start_time": "2024-04-14T12:32:22.397Z"
      },
      {
        "duration": 395,
        "start_time": "2024-04-14T12:34:42.477Z"
      },
      {
        "duration": 367,
        "start_time": "2024-04-14T12:38:56.174Z"
      },
      {
        "duration": 1307,
        "start_time": "2024-04-14T13:17:29.418Z"
      },
      {
        "duration": 1229,
        "start_time": "2024-04-14T13:18:00.703Z"
      },
      {
        "duration": 1043,
        "start_time": "2024-04-14T13:18:14.375Z"
      },
      {
        "duration": 1050,
        "start_time": "2024-04-14T13:18:34.420Z"
      },
      {
        "duration": 3,
        "start_time": "2024-04-14T13:21:58.584Z"
      },
      {
        "duration": 824,
        "start_time": "2024-04-14T13:22:01.080Z"
      },
      {
        "duration": 52,
        "start_time": "2024-04-14T13:22:03.335Z"
      },
      {
        "duration": 117,
        "start_time": "2024-04-14T13:22:17.589Z"
      },
      {
        "duration": 42,
        "start_time": "2024-04-14T13:22:20.367Z"
      },
      {
        "duration": 29,
        "start_time": "2024-04-14T13:22:46.520Z"
      },
      {
        "duration": 26,
        "start_time": "2024-04-14T13:22:54.958Z"
      },
      {
        "duration": 4296,
        "start_time": "2024-04-14T13:23:03.400Z"
      },
      {
        "duration": 1216,
        "start_time": "2024-04-14T13:31:08.989Z"
      },
      {
        "duration": 351,
        "start_time": "2024-04-14T13:34:37.569Z"
      },
      {
        "duration": 961,
        "start_time": "2024-04-14T13:34:43.692Z"
      },
      {
        "duration": 945,
        "start_time": "2024-04-14T13:35:37.614Z"
      },
      {
        "duration": 1147,
        "start_time": "2024-04-14T13:35:47.190Z"
      },
      {
        "duration": 964,
        "start_time": "2024-04-14T13:36:01.660Z"
      },
      {
        "duration": 17,
        "start_time": "2024-04-14T13:52:48.180Z"
      },
      {
        "duration": 17,
        "start_time": "2024-04-14T13:53:57.396Z"
      },
      {
        "duration": 429,
        "start_time": "2024-04-14T13:54:06.415Z"
      },
      {
        "duration": 413,
        "start_time": "2024-04-14T13:54:39.991Z"
      },
      {
        "duration": 433,
        "start_time": "2024-04-14T13:55:02.666Z"
      },
      {
        "duration": 426,
        "start_time": "2024-04-14T13:55:10.179Z"
      },
      {
        "duration": 410,
        "start_time": "2024-04-14T13:55:18.978Z"
      },
      {
        "duration": 387,
        "start_time": "2024-04-14T13:55:52.621Z"
      },
      {
        "duration": 419,
        "start_time": "2024-04-14T13:56:09.247Z"
      },
      {
        "duration": 406,
        "start_time": "2024-04-14T13:56:14.580Z"
      },
      {
        "duration": 416,
        "start_time": "2024-04-14T13:56:18.653Z"
      },
      {
        "duration": 386,
        "start_time": "2024-04-14T13:57:42.627Z"
      },
      {
        "duration": 573,
        "start_time": "2024-04-14T13:58:08.957Z"
      },
      {
        "duration": 426,
        "start_time": "2024-04-14T13:58:41.448Z"
      },
      {
        "duration": 385,
        "start_time": "2024-04-14T13:58:52.113Z"
      },
      {
        "duration": 413,
        "start_time": "2024-04-14T13:59:04.382Z"
      },
      {
        "duration": 434,
        "start_time": "2024-04-14T13:59:35.358Z"
      },
      {
        "duration": 455,
        "start_time": "2024-04-14T13:59:41.856Z"
      },
      {
        "duration": 404,
        "start_time": "2024-04-14T13:59:46.894Z"
      },
      {
        "duration": 403,
        "start_time": "2024-04-14T13:59:51.297Z"
      },
      {
        "duration": 428,
        "start_time": "2024-04-14T13:59:55.872Z"
      },
      {
        "duration": 401,
        "start_time": "2024-04-14T14:00:01.918Z"
      },
      {
        "duration": 478,
        "start_time": "2024-04-14T14:00:29.647Z"
      },
      {
        "duration": 608,
        "start_time": "2024-04-14T14:00:37.481Z"
      },
      {
        "duration": 493,
        "start_time": "2024-04-14T14:00:44.224Z"
      },
      {
        "duration": 377,
        "start_time": "2024-04-14T14:00:50.626Z"
      },
      {
        "duration": 418,
        "start_time": "2024-04-14T14:00:56.112Z"
      },
      {
        "duration": 415,
        "start_time": "2024-04-14T14:01:00.673Z"
      },
      {
        "duration": 451,
        "start_time": "2024-04-14T14:01:05.265Z"
      },
      {
        "duration": 401,
        "start_time": "2024-04-14T14:01:16.816Z"
      },
      {
        "duration": 422,
        "start_time": "2024-04-14T14:01:59.364Z"
      },
      {
        "duration": 397,
        "start_time": "2024-04-14T14:02:39.912Z"
      },
      {
        "duration": 419,
        "start_time": "2024-04-14T14:02:42.961Z"
      },
      {
        "duration": 420,
        "start_time": "2024-04-14T14:02:46.963Z"
      },
      {
        "duration": 408,
        "start_time": "2024-04-14T14:02:52.831Z"
      },
      {
        "duration": 581,
        "start_time": "2024-04-14T14:03:20.888Z"
      },
      {
        "duration": 366,
        "start_time": "2024-04-14T14:03:28.332Z"
      },
      {
        "duration": 455,
        "start_time": "2024-04-14T14:03:31.656Z"
      },
      {
        "duration": 401,
        "start_time": "2024-04-14T14:04:12.715Z"
      },
      {
        "duration": 399,
        "start_time": "2024-04-14T14:04:27.829Z"
      },
      {
        "duration": 400,
        "start_time": "2024-04-14T14:04:39.636Z"
      },
      {
        "duration": 399,
        "start_time": "2024-04-14T14:15:21.547Z"
      },
      {
        "duration": 427,
        "start_time": "2024-04-14T14:15:36.478Z"
      },
      {
        "duration": 385,
        "start_time": "2024-04-14T14:15:48.107Z"
      },
      {
        "duration": 412,
        "start_time": "2024-04-14T14:16:05.349Z"
      },
      {
        "duration": 388,
        "start_time": "2024-04-14T14:16:16.115Z"
      },
      {
        "duration": 379,
        "start_time": "2024-04-14T14:18:12.117Z"
      },
      {
        "duration": 396,
        "start_time": "2024-04-14T14:18:27.686Z"
      },
      {
        "duration": 17,
        "start_time": "2024-04-14T14:18:46.009Z"
      },
      {
        "duration": 516,
        "start_time": "2024-04-14T14:19:06.397Z"
      },
      {
        "duration": 713,
        "start_time": "2024-04-14T14:19:22.460Z"
      },
      {
        "duration": 555,
        "start_time": "2024-04-14T14:19:27.857Z"
      },
      {
        "duration": 570,
        "start_time": "2024-04-14T14:23:51.833Z"
      },
      {
        "duration": 518,
        "start_time": "2024-04-14T14:25:19.274Z"
      },
      {
        "duration": 529,
        "start_time": "2024-04-14T14:30:22.292Z"
      },
      {
        "duration": 538,
        "start_time": "2024-04-14T14:30:31.410Z"
      },
      {
        "duration": 565,
        "start_time": "2024-04-14T14:30:55.468Z"
      },
      {
        "duration": 1304,
        "start_time": "2024-04-14T18:51:32.527Z"
      },
      {
        "duration": 641,
        "start_time": "2024-04-14T18:51:34.299Z"
      },
      {
        "duration": 61,
        "start_time": "2024-04-14T18:51:37.558Z"
      },
      {
        "duration": 116,
        "start_time": "2024-04-14T18:51:44.470Z"
      },
      {
        "duration": 42,
        "start_time": "2024-04-14T18:51:59.200Z"
      },
      {
        "duration": 35,
        "start_time": "2024-04-14T18:52:01.375Z"
      },
      {
        "duration": 13,
        "start_time": "2024-04-14T18:54:27.266Z"
      },
      {
        "duration": 13,
        "start_time": "2024-04-14T18:57:27.432Z"
      },
      {
        "duration": 6,
        "start_time": "2024-04-14T18:57:40.156Z"
      },
      {
        "duration": 10,
        "start_time": "2024-04-14T18:57:46.699Z"
      },
      {
        "duration": 5,
        "start_time": "2024-04-14T18:57:52.610Z"
      },
      {
        "duration": 3828,
        "start_time": "2024-04-14T18:58:48.696Z"
      },
      {
        "duration": 1359,
        "start_time": "2024-04-14T18:59:20.148Z"
      },
      {
        "duration": 636,
        "start_time": "2024-04-14T19:00:28.871Z"
      },
      {
        "duration": 724,
        "start_time": "2024-04-14T19:01:15.408Z"
      },
      {
        "duration": 699,
        "start_time": "2024-04-14T19:01:25.718Z"
      },
      {
        "duration": 627,
        "start_time": "2024-04-14T19:01:48.088Z"
      },
      {
        "duration": 431,
        "start_time": "2024-04-14T19:03:30.671Z"
      },
      {
        "duration": 494,
        "start_time": "2024-04-14T19:03:40.757Z"
      },
      {
        "duration": 431,
        "start_time": "2024-04-14T19:03:58.870Z"
      },
      {
        "duration": 421,
        "start_time": "2024-04-14T19:04:09.544Z"
      },
      {
        "duration": 421,
        "start_time": "2024-04-14T19:04:14.259Z"
      },
      {
        "duration": 435,
        "start_time": "2024-04-14T19:04:22.063Z"
      },
      {
        "duration": 435,
        "start_time": "2024-04-14T19:04:26.189Z"
      },
      {
        "duration": 453,
        "start_time": "2024-04-14T19:04:38.627Z"
      },
      {
        "duration": 431,
        "start_time": "2024-04-14T19:04:52.579Z"
      },
      {
        "duration": 14,
        "start_time": "2024-04-14T19:07:49.942Z"
      },
      {
        "duration": 7,
        "start_time": "2024-04-14T19:18:06.594Z"
      },
      {
        "duration": 8,
        "start_time": "2024-04-14T19:18:11.419Z"
      },
      {
        "duration": 7,
        "start_time": "2024-04-14T19:18:14.720Z"
      },
      {
        "duration": 12,
        "start_time": "2024-04-14T19:28:07.215Z"
      },
      {
        "duration": 3,
        "start_time": "2024-04-14T19:31:58.426Z"
      },
      {
        "duration": 400,
        "start_time": "2024-04-14T19:31:58.431Z"
      },
      {
        "duration": 68,
        "start_time": "2024-04-14T19:31:58.833Z"
      },
      {
        "duration": 142,
        "start_time": "2024-04-14T19:31:58.903Z"
      },
      {
        "duration": 44,
        "start_time": "2024-04-14T19:31:59.047Z"
      },
      {
        "duration": 34,
        "start_time": "2024-04-14T19:31:59.092Z"
      },
      {
        "duration": 51,
        "start_time": "2024-04-14T19:31:59.128Z"
      },
      {
        "duration": 14,
        "start_time": "2024-04-14T19:31:59.180Z"
      },
      {
        "duration": 3929,
        "start_time": "2024-04-14T19:31:59.195Z"
      },
      {
        "duration": 11,
        "start_time": "2024-04-14T19:32:03.126Z"
      },
      {
        "duration": 29,
        "start_time": "2024-04-14T19:32:22.349Z"
      },
      {
        "duration": 1193,
        "start_time": "2024-04-14T19:33:13.929Z"
      },
      {
        "duration": 639,
        "start_time": "2024-04-14T19:33:32.298Z"
      },
      {
        "duration": 21,
        "start_time": "2024-04-14T19:33:58.911Z"
      },
      {
        "duration": 4,
        "start_time": "2024-04-14T19:58:23.141Z"
      },
      {
        "duration": 103,
        "start_time": "2024-04-14T19:59:42.968Z"
      },
      {
        "duration": 426,
        "start_time": "2024-04-14T20:00:08.577Z"
      },
      {
        "duration": 4,
        "start_time": "2024-04-14T20:00:14.807Z"
      },
      {
        "duration": 12,
        "start_time": "2024-04-14T20:00:18.680Z"
      },
      {
        "duration": 28,
        "start_time": "2024-04-14T20:00:42.597Z"
      },
      {
        "duration": 20,
        "start_time": "2024-04-14T20:02:34.293Z"
      },
      {
        "duration": 3,
        "start_time": "2024-04-14T20:02:46.368Z"
      },
      {
        "duration": 16,
        "start_time": "2024-04-14T20:03:37.774Z"
      },
      {
        "duration": 1656,
        "start_time": "2024-04-15T18:05:50.989Z"
      },
      {
        "duration": 1590,
        "start_time": "2024-04-15T18:05:52.647Z"
      },
      {
        "duration": 62,
        "start_time": "2024-04-15T18:05:54.239Z"
      },
      {
        "duration": 148,
        "start_time": "2024-04-15T18:05:54.303Z"
      },
      {
        "duration": 43,
        "start_time": "2024-04-15T18:05:54.459Z"
      },
      {
        "duration": 37,
        "start_time": "2024-04-15T18:05:54.504Z"
      },
      {
        "duration": 63,
        "start_time": "2024-04-15T18:05:54.543Z"
      },
      {
        "duration": 13,
        "start_time": "2024-04-15T18:05:54.607Z"
      },
      {
        "duration": 4006,
        "start_time": "2024-04-15T18:05:54.622Z"
      },
      {
        "duration": 14,
        "start_time": "2024-04-15T18:05:58.630Z"
      },
      {
        "duration": 36,
        "start_time": "2024-04-15T18:05:58.645Z"
      },
      {
        "duration": 1227,
        "start_time": "2024-04-15T18:05:58.683Z"
      },
      {
        "duration": 704,
        "start_time": "2024-04-15T18:05:59.912Z"
      },
      {
        "duration": 14,
        "start_time": "2024-04-15T18:06:00.618Z"
      },
      {
        "duration": 35,
        "start_time": "2024-04-15T18:06:00.634Z"
      },
      {
        "duration": 3,
        "start_time": "2024-04-15T18:06:04.864Z"
      },
      {
        "duration": 115,
        "start_time": "2024-04-15T18:13:18.404Z"
      },
      {
        "duration": 3,
        "start_time": "2024-04-15T18:13:37.369Z"
      },
      {
        "duration": 32,
        "start_time": "2024-04-15T18:13:41.451Z"
      },
      {
        "duration": 2,
        "start_time": "2024-04-15T18:15:33.404Z"
      },
      {
        "duration": 4,
        "start_time": "2024-04-15T18:15:42.474Z"
      },
      {
        "duration": 29,
        "start_time": "2024-04-15T18:15:47.085Z"
      },
      {
        "duration": 6,
        "start_time": "2024-04-15T18:16:04.515Z"
      },
      {
        "duration": 58,
        "start_time": "2024-04-15T18:16:06.900Z"
      },
      {
        "duration": 4,
        "start_time": "2024-04-15T18:16:48.299Z"
      },
      {
        "duration": 6,
        "start_time": "2024-04-15T18:17:24.191Z"
      },
      {
        "duration": 29,
        "start_time": "2024-04-15T18:19:27.310Z"
      },
      {
        "duration": 25,
        "start_time": "2024-04-15T18:19:39.376Z"
      },
      {
        "duration": 5,
        "start_time": "2024-04-15T18:19:45.137Z"
      },
      {
        "duration": 34,
        "start_time": "2024-04-15T18:21:17.677Z"
      },
      {
        "duration": 409,
        "start_time": "2024-04-15T18:29:26.190Z"
      },
      {
        "duration": 433,
        "start_time": "2024-04-15T18:29:48.952Z"
      },
      {
        "duration": 500,
        "start_time": "2024-04-15T18:30:00.766Z"
      },
      {
        "duration": 613,
        "start_time": "2024-04-15T18:30:18.985Z"
      },
      {
        "duration": 404,
        "start_time": "2024-04-15T18:30:27.289Z"
      },
      {
        "duration": 398,
        "start_time": "2024-04-15T18:30:34.899Z"
      },
      {
        "duration": 424,
        "start_time": "2024-04-15T18:30:38.994Z"
      },
      {
        "duration": 434,
        "start_time": "2024-04-15T18:30:43.375Z"
      },
      {
        "duration": 396,
        "start_time": "2024-04-15T18:30:47.902Z"
      },
      {
        "duration": 490,
        "start_time": "2024-04-15T18:30:52.463Z"
      },
      {
        "duration": 413,
        "start_time": "2024-04-15T18:30:56.701Z"
      },
      {
        "duration": 429,
        "start_time": "2024-04-15T18:32:04.701Z"
      },
      {
        "duration": 397,
        "start_time": "2024-04-15T18:32:14.128Z"
      },
      {
        "duration": 426,
        "start_time": "2024-04-15T18:32:22.290Z"
      },
      {
        "duration": 549,
        "start_time": "2024-04-15T18:33:47.993Z"
      },
      {
        "duration": 430,
        "start_time": "2024-04-15T18:34:00.193Z"
      },
      {
        "duration": 423,
        "start_time": "2024-04-15T18:34:10.680Z"
      },
      {
        "duration": 392,
        "start_time": "2024-04-15T18:34:52.923Z"
      },
      {
        "duration": 407,
        "start_time": "2024-04-15T18:35:04.586Z"
      },
      {
        "duration": 421,
        "start_time": "2024-04-15T18:35:11.726Z"
      },
      {
        "duration": 404,
        "start_time": "2024-04-15T18:35:34.013Z"
      },
      {
        "duration": 412,
        "start_time": "2024-04-15T18:35:41.112Z"
      },
      {
        "duration": 397,
        "start_time": "2024-04-15T18:35:47.419Z"
      },
      {
        "duration": 391,
        "start_time": "2024-04-15T18:36:04.611Z"
      },
      {
        "duration": 426,
        "start_time": "2024-04-15T18:36:34.084Z"
      },
      {
        "duration": 534,
        "start_time": "2024-04-15T18:37:28.101Z"
      },
      {
        "duration": 407,
        "start_time": "2024-04-15T18:37:31.820Z"
      },
      {
        "duration": 439,
        "start_time": "2024-04-15T18:37:46.565Z"
      },
      {
        "duration": 416,
        "start_time": "2024-04-15T18:37:49.951Z"
      },
      {
        "duration": 444,
        "start_time": "2024-04-15T18:38:04.275Z"
      },
      {
        "duration": 417,
        "start_time": "2024-04-15T18:38:11.976Z"
      },
      {
        "duration": 472,
        "start_time": "2024-04-15T18:38:15.471Z"
      },
      {
        "duration": 391,
        "start_time": "2024-04-15T18:38:23.412Z"
      },
      {
        "duration": 31,
        "start_time": "2024-04-15T18:38:42.527Z"
      },
      {
        "duration": 447,
        "start_time": "2024-04-15T18:42:16.467Z"
      },
      {
        "duration": 447,
        "start_time": "2024-04-15T18:42:21.863Z"
      },
      {
        "duration": 411,
        "start_time": "2024-04-15T18:42:45.987Z"
      },
      {
        "duration": 525,
        "start_time": "2024-04-15T18:42:55.876Z"
      },
      {
        "duration": 668,
        "start_time": "2024-04-15T18:44:01.801Z"
      },
      {
        "duration": 652,
        "start_time": "2024-04-15T18:44:18.696Z"
      },
      {
        "duration": 688,
        "start_time": "2024-04-15T18:44:27.141Z"
      },
      {
        "duration": 648,
        "start_time": "2024-04-15T18:44:36.078Z"
      },
      {
        "duration": 32,
        "start_time": "2024-04-15T18:45:53.208Z"
      },
      {
        "duration": 3,
        "start_time": "2024-04-15T18:51:29.896Z"
      },
      {
        "duration": 444,
        "start_time": "2024-04-15T18:51:29.901Z"
      },
      {
        "duration": 66,
        "start_time": "2024-04-15T18:51:30.347Z"
      },
      {
        "duration": 173,
        "start_time": "2024-04-15T18:51:30.415Z"
      },
      {
        "duration": 232,
        "start_time": "2024-04-15T18:51:30.590Z"
      },
      {
        "duration": 160,
        "start_time": "2024-04-15T18:51:30.824Z"
      },
      {
        "duration": 46,
        "start_time": "2024-04-15T18:51:30.986Z"
      },
      {
        "duration": 30,
        "start_time": "2024-04-15T18:51:31.034Z"
      },
      {
        "duration": 4011,
        "start_time": "2024-04-15T18:51:31.067Z"
      },
      {
        "duration": 11,
        "start_time": "2024-04-15T18:51:35.079Z"
      },
      {
        "duration": 54,
        "start_time": "2024-04-15T18:51:35.091Z"
      },
      {
        "duration": 1214,
        "start_time": "2024-04-15T18:51:35.147Z"
      },
      {
        "duration": 659,
        "start_time": "2024-04-15T18:51:36.363Z"
      },
      {
        "duration": 13,
        "start_time": "2024-04-15T18:51:37.024Z"
      },
      {
        "duration": 20,
        "start_time": "2024-04-15T18:51:37.039Z"
      },
      {
        "duration": 3,
        "start_time": "2024-04-15T18:51:37.060Z"
      },
      {
        "duration": 29,
        "start_time": "2024-04-15T18:51:37.065Z"
      },
      {
        "duration": 4,
        "start_time": "2024-04-15T18:53:32.370Z"
      },
      {
        "duration": 5,
        "start_time": "2024-04-15T18:53:57.140Z"
      },
      {
        "duration": 5,
        "start_time": "2024-04-15T18:57:30.615Z"
      },
      {
        "duration": 5,
        "start_time": "2024-04-15T18:57:40.993Z"
      },
      {
        "duration": 162,
        "start_time": "2024-04-15T19:04:13.203Z"
      },
      {
        "duration": 25,
        "start_time": "2024-04-15T19:04:20.556Z"
      },
      {
        "duration": 5,
        "start_time": "2024-04-15T19:06:54.956Z"
      },
      {
        "duration": 61,
        "start_time": "2024-04-15T19:08:20.500Z"
      },
      {
        "duration": 33,
        "start_time": "2024-04-15T19:08:24.385Z"
      },
      {
        "duration": 5,
        "start_time": "2024-04-15T19:10:07.882Z"
      },
      {
        "duration": 480,
        "start_time": "2024-04-15T19:15:46.649Z"
      },
      {
        "duration": 233,
        "start_time": "2024-04-15T19:16:18.779Z"
      },
      {
        "duration": 325,
        "start_time": "2024-04-15T19:16:25.854Z"
      },
      {
        "duration": 182,
        "start_time": "2024-04-15T19:16:38.408Z"
      },
      {
        "duration": 235,
        "start_time": "2024-04-15T19:16:48.737Z"
      },
      {
        "duration": 520,
        "start_time": "2024-04-15T19:18:15.489Z"
      },
      {
        "duration": 397,
        "start_time": "2024-04-15T19:18:56.189Z"
      },
      {
        "duration": 456,
        "start_time": "2024-04-15T19:19:49.205Z"
      },
      {
        "duration": 322,
        "start_time": "2024-04-15T19:20:05.511Z"
      },
      {
        "duration": 524,
        "start_time": "2024-04-15T19:20:14.952Z"
      },
      {
        "duration": 459,
        "start_time": "2024-04-15T19:21:59.567Z"
      },
      {
        "duration": 531,
        "start_time": "2024-04-15T19:22:29.753Z"
      },
      {
        "duration": 4,
        "start_time": "2024-04-15T19:23:05.316Z"
      },
      {
        "duration": 4,
        "start_time": "2024-04-15T19:23:11.332Z"
      },
      {
        "duration": 510,
        "start_time": "2024-04-15T19:25:27.001Z"
      },
      {
        "duration": 691,
        "start_time": "2024-04-15T19:25:46.453Z"
      },
      {
        "duration": 524,
        "start_time": "2024-04-15T19:26:37.770Z"
      },
      {
        "duration": 494,
        "start_time": "2024-04-15T19:27:09.992Z"
      },
      {
        "duration": 438,
        "start_time": "2024-04-15T19:27:28.032Z"
      },
      {
        "duration": 710,
        "start_time": "2024-04-15T19:27:36.200Z"
      },
      {
        "duration": 524,
        "start_time": "2024-04-15T19:27:43.557Z"
      },
      {
        "duration": 508,
        "start_time": "2024-04-15T19:28:51.887Z"
      },
      {
        "duration": 513,
        "start_time": "2024-04-15T19:29:13.651Z"
      },
      {
        "duration": 494,
        "start_time": "2024-04-15T19:55:16.375Z"
      },
      {
        "duration": 3,
        "start_time": "2024-04-15T19:56:03.708Z"
      },
      {
        "duration": 404,
        "start_time": "2024-04-15T19:56:03.713Z"
      },
      {
        "duration": 64,
        "start_time": "2024-04-15T19:56:04.119Z"
      },
      {
        "duration": 127,
        "start_time": "2024-04-15T19:56:04.186Z"
      },
      {
        "duration": 47,
        "start_time": "2024-04-15T19:56:04.315Z"
      },
      {
        "duration": 36,
        "start_time": "2024-04-15T19:56:04.364Z"
      },
      {
        "duration": 57,
        "start_time": "2024-04-15T19:56:04.402Z"
      },
      {
        "duration": 15,
        "start_time": "2024-04-15T19:56:04.461Z"
      },
      {
        "duration": 4295,
        "start_time": "2024-04-15T19:56:04.478Z"
      },
      {
        "duration": 12,
        "start_time": "2024-04-15T19:56:08.775Z"
      },
      {
        "duration": 27,
        "start_time": "2024-04-15T19:56:08.788Z"
      },
      {
        "duration": 1173,
        "start_time": "2024-04-15T19:56:08.816Z"
      },
      {
        "duration": 650,
        "start_time": "2024-04-15T19:56:09.991Z"
      },
      {
        "duration": 23,
        "start_time": "2024-04-15T19:56:10.642Z"
      },
      {
        "duration": 5,
        "start_time": "2024-04-15T19:56:10.666Z"
      },
      {
        "duration": 4,
        "start_time": "2024-04-15T19:56:10.672Z"
      },
      {
        "duration": 83,
        "start_time": "2024-04-15T19:56:10.677Z"
      },
      {
        "duration": 7,
        "start_time": "2024-04-15T19:56:10.762Z"
      },
      {
        "duration": 595,
        "start_time": "2024-04-15T19:56:10.859Z"
      },
      {
        "duration": 547,
        "start_time": "2024-04-15T19:57:31.600Z"
      },
      {
        "duration": 524,
        "start_time": "2024-04-15T19:58:09.431Z"
      },
      {
        "duration": 107,
        "start_time": "2024-04-15T20:05:24.355Z"
      },
      {
        "duration": 4,
        "start_time": "2024-04-15T20:05:26.683Z"
      },
      {
        "duration": 509,
        "start_time": "2024-04-15T20:05:39.379Z"
      },
      {
        "duration": 1006,
        "start_time": "2024-04-15T20:06:05.116Z"
      },
      {
        "duration": 479,
        "start_time": "2024-04-15T20:07:37.469Z"
      },
      {
        "duration": 462,
        "start_time": "2024-04-15T20:07:48.964Z"
      },
      {
        "duration": 461,
        "start_time": "2024-04-15T20:07:56.090Z"
      },
      {
        "duration": 512,
        "start_time": "2024-04-15T20:08:01.466Z"
      },
      {
        "duration": 766,
        "start_time": "2024-04-15T20:08:05.947Z"
      },
      {
        "duration": 471,
        "start_time": "2024-04-15T20:08:10.639Z"
      },
      {
        "duration": 479,
        "start_time": "2024-04-15T20:08:14.423Z"
      },
      {
        "duration": 483,
        "start_time": "2024-04-15T20:08:29.714Z"
      },
      {
        "duration": 40,
        "start_time": "2024-04-15T20:11:47.033Z"
      },
      {
        "duration": 6,
        "start_time": "2024-04-15T20:11:48.424Z"
      },
      {
        "duration": 497,
        "start_time": "2024-04-15T20:11:49.926Z"
      },
      {
        "duration": 1726,
        "start_time": "2024-04-16T17:39:11.998Z"
      },
      {
        "duration": 1653,
        "start_time": "2024-04-16T17:39:13.726Z"
      },
      {
        "duration": 71,
        "start_time": "2024-04-16T17:39:15.381Z"
      },
      {
        "duration": 189,
        "start_time": "2024-04-16T17:39:15.454Z"
      },
      {
        "duration": 73,
        "start_time": "2024-04-16T17:39:15.646Z"
      },
      {
        "duration": 42,
        "start_time": "2024-04-16T17:39:15.721Z"
      },
      {
        "duration": 58,
        "start_time": "2024-04-16T17:39:15.764Z"
      },
      {
        "duration": 18,
        "start_time": "2024-04-16T17:39:15.824Z"
      },
      {
        "duration": 4622,
        "start_time": "2024-04-16T17:39:15.846Z"
      },
      {
        "duration": 12,
        "start_time": "2024-04-16T17:39:20.470Z"
      },
      {
        "duration": 31,
        "start_time": "2024-04-16T17:39:20.484Z"
      },
      {
        "duration": 1296,
        "start_time": "2024-04-16T17:39:20.517Z"
      },
      {
        "duration": 748,
        "start_time": "2024-04-16T17:39:21.815Z"
      },
      {
        "duration": 27,
        "start_time": "2024-04-16T17:39:22.566Z"
      },
      {
        "duration": 4,
        "start_time": "2024-04-16T17:39:22.595Z"
      },
      {
        "duration": 5,
        "start_time": "2024-04-16T17:39:22.600Z"
      },
      {
        "duration": 28,
        "start_time": "2024-04-16T17:39:22.607Z"
      },
      {
        "duration": 57,
        "start_time": "2024-04-16T17:39:22.637Z"
      },
      {
        "duration": 983,
        "start_time": "2024-04-16T17:39:22.696Z"
      },
      {
        "duration": 37,
        "start_time": "2024-04-16T17:39:23.682Z"
      },
      {
        "duration": 71,
        "start_time": "2024-04-16T17:39:23.721Z"
      },
      {
        "duration": 637,
        "start_time": "2024-04-16T17:39:23.794Z"
      },
      {
        "duration": 60,
        "start_time": "2024-04-16T17:39:24.433Z"
      },
      {
        "duration": 6,
        "start_time": "2024-04-16T17:39:24.495Z"
      },
      {
        "duration": 562,
        "start_time": "2024-04-16T17:39:24.592Z"
      },
      {
        "duration": 3,
        "start_time": "2024-04-16T17:45:47.425Z"
      },
      {
        "duration": 3,
        "start_time": "2024-04-16T17:46:34.463Z"
      },
      {
        "duration": 3,
        "start_time": "2024-04-16T17:59:07.227Z"
      },
      {
        "duration": 128,
        "start_time": "2024-04-16T17:59:51.651Z"
      },
      {
        "duration": 2,
        "start_time": "2024-04-16T17:59:54.550Z"
      },
      {
        "duration": 13,
        "start_time": "2024-04-16T17:59:56.143Z"
      },
      {
        "duration": 4,
        "start_time": "2024-04-16T18:00:04.372Z"
      },
      {
        "duration": 4,
        "start_time": "2024-04-16T18:00:06.150Z"
      },
      {
        "duration": 4,
        "start_time": "2024-04-16T18:00:07.414Z"
      },
      {
        "duration": 4,
        "start_time": "2024-04-16T18:06:55.697Z"
      },
      {
        "duration": 3,
        "start_time": "2024-04-16T18:11:07.035Z"
      },
      {
        "duration": 4,
        "start_time": "2024-04-16T18:11:45.172Z"
      },
      {
        "duration": 5,
        "start_time": "2024-04-16T18:12:09.726Z"
      },
      {
        "duration": 4,
        "start_time": "2024-04-16T18:14:20.370Z"
      },
      {
        "duration": 4,
        "start_time": "2024-04-16T18:14:24.085Z"
      },
      {
        "duration": 4,
        "start_time": "2024-04-16T18:14:29.314Z"
      },
      {
        "duration": 4,
        "start_time": "2024-04-16T18:14:33.586Z"
      },
      {
        "duration": 3,
        "start_time": "2024-04-16T18:14:37.520Z"
      },
      {
        "duration": 5,
        "start_time": "2024-04-16T18:14:41.129Z"
      },
      {
        "duration": 3,
        "start_time": "2024-04-16T18:14:46.254Z"
      },
      {
        "duration": 3,
        "start_time": "2024-04-16T18:14:50.928Z"
      },
      {
        "duration": 4,
        "start_time": "2024-04-16T18:14:55.260Z"
      },
      {
        "duration": 3,
        "start_time": "2024-04-16T18:15:08.169Z"
      },
      {
        "duration": 5,
        "start_time": "2024-04-16T18:15:14.606Z"
      },
      {
        "duration": 4,
        "start_time": "2024-04-16T18:15:46.271Z"
      },
      {
        "duration": 4,
        "start_time": "2024-04-16T18:18:59.699Z"
      },
      {
        "duration": 4,
        "start_time": "2024-04-16T18:19:38.459Z"
      },
      {
        "duration": 4,
        "start_time": "2024-04-16T18:37:42.550Z"
      },
      {
        "duration": 449,
        "start_time": "2024-04-16T18:37:42.556Z"
      },
      {
        "duration": 62,
        "start_time": "2024-04-16T18:37:43.007Z"
      },
      {
        "duration": 153,
        "start_time": "2024-04-16T18:37:43.071Z"
      },
      {
        "duration": 68,
        "start_time": "2024-04-16T18:37:43.226Z"
      },
      {
        "duration": 35,
        "start_time": "2024-04-16T18:37:43.297Z"
      },
      {
        "duration": 30,
        "start_time": "2024-04-16T18:37:43.334Z"
      },
      {
        "duration": 43,
        "start_time": "2024-04-16T18:37:43.366Z"
      },
      {
        "duration": 4340,
        "start_time": "2024-04-16T18:37:43.410Z"
      },
      {
        "duration": 13,
        "start_time": "2024-04-16T18:37:47.751Z"
      },
      {
        "duration": 1263,
        "start_time": "2024-04-16T18:37:51.710Z"
      },
      {
        "duration": 707,
        "start_time": "2024-04-16T18:38:27.075Z"
      },
      {
        "duration": 21,
        "start_time": "2024-04-16T18:38:48.232Z"
      },
      {
        "duration": 5,
        "start_time": "2024-04-16T18:39:50.524Z"
      },
      {
        "duration": 3,
        "start_time": "2024-04-16T18:39:52.836Z"
      },
      {
        "duration": 129,
        "start_time": "2024-04-16T18:39:57.364Z"
      },
      {
        "duration": 6,
        "start_time": "2024-04-16T18:40:03.931Z"
      },
      {
        "duration": 593,
        "start_time": "2024-04-16T18:40:19.346Z"
      },
      {
        "duration": 94,
        "start_time": "2024-04-16T18:40:28.501Z"
      },
      {
        "duration": 4,
        "start_time": "2024-04-16T18:40:32.490Z"
      },
      {
        "duration": 801,
        "start_time": "2024-04-16T18:40:40.723Z"
      },
      {
        "duration": 36,
        "start_time": "2024-04-16T18:41:01.677Z"
      },
      {
        "duration": 5,
        "start_time": "2024-04-16T18:41:05.163Z"
      },
      {
        "duration": 498,
        "start_time": "2024-04-16T18:41:13.094Z"
      },
      {
        "duration": 3,
        "start_time": "2024-04-16T18:42:06.758Z"
      },
      {
        "duration": 3,
        "start_time": "2024-04-16T18:42:08.960Z"
      },
      {
        "duration": 3,
        "start_time": "2024-04-16T18:42:11.357Z"
      },
      {
        "duration": 5,
        "start_time": "2024-04-16T18:42:14.395Z"
      },
      {
        "duration": 3,
        "start_time": "2024-04-16T18:53:30.603Z"
      },
      {
        "duration": 13,
        "start_time": "2024-04-16T18:53:58.207Z"
      },
      {
        "duration": 3,
        "start_time": "2024-04-16T18:54:35.223Z"
      },
      {
        "duration": 13,
        "start_time": "2024-04-16T18:54:36.299Z"
      },
      {
        "duration": 4,
        "start_time": "2024-04-16T18:54:50.825Z"
      },
      {
        "duration": 12,
        "start_time": "2024-04-16T18:54:53.735Z"
      },
      {
        "duration": 4,
        "start_time": "2024-04-16T18:54:59.258Z"
      },
      {
        "duration": 24,
        "start_time": "2024-04-16T18:55:00.395Z"
      },
      {
        "duration": 5,
        "start_time": "2024-04-16T18:55:39.393Z"
      },
      {
        "duration": 4,
        "start_time": "2024-04-16T18:55:45.417Z"
      },
      {
        "duration": 6,
        "start_time": "2024-04-16T18:56:16.262Z"
      },
      {
        "duration": 6,
        "start_time": "2024-04-16T18:56:43.718Z"
      },
      {
        "duration": 14,
        "start_time": "2024-04-16T18:57:39.523Z"
      },
      {
        "duration": 11,
        "start_time": "2024-04-16T18:59:10.532Z"
      },
      {
        "duration": 9,
        "start_time": "2024-04-16T18:59:38.748Z"
      },
      {
        "duration": 5,
        "start_time": "2024-04-16T18:59:43.113Z"
      },
      {
        "duration": 7,
        "start_time": "2024-04-16T19:00:26.354Z"
      },
      {
        "duration": 15,
        "start_time": "2024-04-16T19:01:37.076Z"
      },
      {
        "duration": 6,
        "start_time": "2024-04-16T19:02:13.430Z"
      },
      {
        "duration": 5,
        "start_time": "2024-04-16T19:02:21.119Z"
      },
      {
        "duration": 13,
        "start_time": "2024-04-16T19:02:32.722Z"
      },
      {
        "duration": 18,
        "start_time": "2024-04-16T19:02:37.133Z"
      },
      {
        "duration": 6,
        "start_time": "2024-04-16T19:03:35.739Z"
      },
      {
        "duration": 11,
        "start_time": "2024-04-16T19:05:16.623Z"
      },
      {
        "duration": 23,
        "start_time": "2024-04-16T19:05:24.921Z"
      },
      {
        "duration": 20,
        "start_time": "2024-04-16T19:07:23.031Z"
      },
      {
        "duration": 131,
        "start_time": "2024-04-16T19:23:20.620Z"
      },
      {
        "duration": 24,
        "start_time": "2024-04-16T19:24:00.468Z"
      },
      {
        "duration": 44,
        "start_time": "2024-04-16T19:24:44.863Z"
      },
      {
        "duration": 44,
        "start_time": "2024-04-16T19:24:55.176Z"
      },
      {
        "duration": 40,
        "start_time": "2024-04-16T19:25:05.676Z"
      },
      {
        "duration": 3,
        "start_time": "2024-04-16T19:30:49.095Z"
      },
      {
        "duration": 11,
        "start_time": "2024-04-16T19:31:12.463Z"
      },
      {
        "duration": 3,
        "start_time": "2024-04-16T19:32:30.005Z"
      },
      {
        "duration": 10,
        "start_time": "2024-04-16T19:32:30.471Z"
      },
      {
        "duration": 4,
        "start_time": "2024-04-16T19:33:11.868Z"
      },
      {
        "duration": 9,
        "start_time": "2024-04-16T19:33:14.733Z"
      },
      {
        "duration": 10,
        "start_time": "2024-04-16T19:33:38.025Z"
      },
      {
        "duration": 10,
        "start_time": "2024-04-16T19:33:43.469Z"
      },
      {
        "duration": 4,
        "start_time": "2024-04-16T19:35:45.403Z"
      },
      {
        "duration": 10,
        "start_time": "2024-04-16T19:35:47.328Z"
      },
      {
        "duration": 19,
        "start_time": "2024-04-16T19:38:20.043Z"
      },
      {
        "duration": 3,
        "start_time": "2024-04-16T19:38:48.962Z"
      },
      {
        "duration": 21,
        "start_time": "2024-04-16T19:38:50.751Z"
      },
      {
        "duration": 5,
        "start_time": "2024-04-16T19:46:25.662Z"
      },
      {
        "duration": 4,
        "start_time": "2024-04-16T19:55:53.569Z"
      },
      {
        "duration": 4451,
        "start_time": "2024-04-16T19:56:26.092Z"
      },
      {
        "duration": 4311,
        "start_time": "2024-04-16T19:57:21.496Z"
      },
      {
        "duration": 4,
        "start_time": "2024-04-16T19:59:26.175Z"
      },
      {
        "duration": 1412,
        "start_time": "2024-04-16T19:59:35.252Z"
      },
      {
        "duration": 1424,
        "start_time": "2024-04-16T20:00:58.089Z"
      },
      {
        "duration": 1425,
        "start_time": "2024-04-16T20:02:04.822Z"
      },
      {
        "duration": 1404,
        "start_time": "2024-04-16T20:02:22.242Z"
      },
      {
        "duration": 1460,
        "start_time": "2024-04-16T20:02:45.248Z"
      },
      {
        "duration": 1406,
        "start_time": "2024-04-16T20:03:26.247Z"
      },
      {
        "duration": 189,
        "start_time": "2024-04-16T20:03:42.706Z"
      },
      {
        "duration": 4302,
        "start_time": "2024-04-16T20:04:09.758Z"
      },
      {
        "duration": 163,
        "start_time": "2024-04-16T20:04:19.342Z"
      },
      {
        "duration": 190,
        "start_time": "2024-04-16T20:04:26.899Z"
      },
      {
        "duration": 1084,
        "start_time": "2024-04-16T20:07:49.696Z"
      },
      {
        "duration": 728,
        "start_time": "2024-04-16T20:07:59.291Z"
      },
      {
        "duration": 691,
        "start_time": "2024-04-16T20:08:26.335Z"
      },
      {
        "duration": 871,
        "start_time": "2024-04-16T20:08:32.862Z"
      },
      {
        "duration": 646,
        "start_time": "2024-04-16T20:08:38.383Z"
      },
      {
        "duration": 851,
        "start_time": "2024-04-16T20:08:43.165Z"
      },
      {
        "duration": 767,
        "start_time": "2024-04-16T20:08:57.450Z"
      },
      {
        "duration": 943,
        "start_time": "2024-04-16T20:09:06.915Z"
      },
      {
        "duration": 759,
        "start_time": "2024-04-16T20:09:10.730Z"
      },
      {
        "duration": 958,
        "start_time": "2024-04-16T20:09:14.834Z"
      },
      {
        "duration": 795,
        "start_time": "2024-04-16T20:09:20.701Z"
      },
      {
        "duration": 888,
        "start_time": "2024-04-16T20:12:28.333Z"
      },
      {
        "duration": 9,
        "start_time": "2024-04-16T20:15:53.007Z"
      },
      {
        "duration": 5,
        "start_time": "2024-04-16T20:16:58.384Z"
      },
      {
        "duration": 6,
        "start_time": "2024-04-16T20:17:24.585Z"
      },
      {
        "duration": 6,
        "start_time": "2024-04-16T20:17:28.004Z"
      },
      {
        "duration": 5,
        "start_time": "2024-04-16T20:17:57.702Z"
      },
      {
        "duration": 7,
        "start_time": "2024-04-16T20:19:01.438Z"
      },
      {
        "duration": 1665,
        "start_time": "2024-04-17T17:50:54.153Z"
      },
      {
        "duration": 1667,
        "start_time": "2024-04-17T17:50:55.821Z"
      },
      {
        "duration": 71,
        "start_time": "2024-04-17T17:50:57.490Z"
      },
      {
        "duration": 162,
        "start_time": "2024-04-17T17:50:57.563Z"
      },
      {
        "duration": 46,
        "start_time": "2024-04-17T17:50:57.727Z"
      },
      {
        "duration": 32,
        "start_time": "2024-04-17T17:50:57.792Z"
      },
      {
        "duration": 35,
        "start_time": "2024-04-17T17:50:57.825Z"
      },
      {
        "duration": 34,
        "start_time": "2024-04-17T17:50:57.862Z"
      },
      {
        "duration": 4324,
        "start_time": "2024-04-17T17:50:57.898Z"
      },
      {
        "duration": 12,
        "start_time": "2024-04-17T17:51:02.225Z"
      },
      {
        "duration": 1340,
        "start_time": "2024-04-17T17:51:02.238Z"
      },
      {
        "duration": 688,
        "start_time": "2024-04-17T17:51:03.580Z"
      },
      {
        "duration": 15,
        "start_time": "2024-04-17T17:51:04.269Z"
      },
      {
        "duration": 15,
        "start_time": "2024-04-17T17:51:04.293Z"
      },
      {
        "duration": 20,
        "start_time": "2024-04-17T17:51:04.310Z"
      },
      {
        "duration": 161,
        "start_time": "2024-04-17T17:51:04.332Z"
      },
      {
        "duration": 7,
        "start_time": "2024-04-17T17:51:04.495Z"
      },
      {
        "duration": 688,
        "start_time": "2024-04-17T17:51:04.506Z"
      },
      {
        "duration": 29,
        "start_time": "2024-04-17T17:51:05.196Z"
      },
      {
        "duration": 165,
        "start_time": "2024-04-17T17:51:05.227Z"
      },
      {
        "duration": 806,
        "start_time": "2024-04-17T17:51:05.394Z"
      },
      {
        "duration": 36,
        "start_time": "2024-04-17T17:51:06.202Z"
      },
      {
        "duration": 54,
        "start_time": "2024-04-17T17:51:06.240Z"
      },
      {
        "duration": 645,
        "start_time": "2024-04-17T17:51:06.296Z"
      },
      {
        "duration": 153,
        "start_time": "2024-04-17T17:51:06.943Z"
      },
      {
        "duration": 4,
        "start_time": "2024-04-17T17:51:07.097Z"
      },
      {
        "duration": 25,
        "start_time": "2024-04-17T17:51:07.102Z"
      },
      {
        "duration": 18,
        "start_time": "2024-04-17T17:51:07.129Z"
      },
      {
        "duration": 15,
        "start_time": "2024-04-17T17:51:07.149Z"
      },
      {
        "duration": 56,
        "start_time": "2024-04-17T17:51:07.166Z"
      },
      {
        "duration": 5,
        "start_time": "2024-04-17T17:51:07.224Z"
      },
      {
        "duration": 4254,
        "start_time": "2024-04-17T17:51:07.231Z"
      },
      {
        "duration": 836,
        "start_time": "2024-04-17T17:51:11.487Z"
      },
      {
        "duration": 5,
        "start_time": "2024-04-17T17:51:12.325Z"
      },
      {
        "duration": 3,
        "start_time": "2024-04-17T18:01:20.445Z"
      },
      {
        "duration": 112,
        "start_time": "2024-04-17T18:02:25.047Z"
      },
      {
        "duration": 4,
        "start_time": "2024-04-17T18:02:35.437Z"
      },
      {
        "duration": 10,
        "start_time": "2024-04-17T18:02:41.904Z"
      },
      {
        "duration": 10,
        "start_time": "2024-04-17T18:03:01.146Z"
      },
      {
        "duration": 7,
        "start_time": "2024-04-17T18:03:46.881Z"
      },
      {
        "duration": 12,
        "start_time": "2024-04-17T18:05:35.638Z"
      },
      {
        "duration": 13,
        "start_time": "2024-04-17T18:05:45.637Z"
      },
      {
        "duration": 293,
        "start_time": "2024-04-17T18:16:38.202Z"
      },
      {
        "duration": 606,
        "start_time": "2024-04-17T18:17:13.324Z"
      },
      {
        "duration": 455,
        "start_time": "2024-04-17T18:17:21.906Z"
      },
      {
        "duration": 405,
        "start_time": "2024-04-17T18:17:40.591Z"
      },
      {
        "duration": 283,
        "start_time": "2024-04-17T18:18:38.031Z"
      },
      {
        "duration": 492,
        "start_time": "2024-04-17T18:18:51.448Z"
      },
      {
        "duration": 6,
        "start_time": "2024-04-17T18:25:35.922Z"
      },
      {
        "duration": 10,
        "start_time": "2024-04-17T18:26:24.251Z"
      },
      {
        "duration": 8,
        "start_time": "2024-04-17T18:26:29.831Z"
      },
      {
        "duration": 7,
        "start_time": "2024-04-17T18:26:39.231Z"
      },
      {
        "duration": 7,
        "start_time": "2024-04-17T18:28:24.372Z"
      },
      {
        "duration": 8,
        "start_time": "2024-04-17T18:28:27.289Z"
      },
      {
        "duration": 9,
        "start_time": "2024-04-17T18:28:43.318Z"
      },
      {
        "duration": 8,
        "start_time": "2024-04-17T18:29:13.581Z"
      },
      {
        "duration": 8,
        "start_time": "2024-04-17T18:29:17.780Z"
      },
      {
        "duration": 8,
        "start_time": "2024-04-17T18:29:52.538Z"
      },
      {
        "duration": 12,
        "start_time": "2024-04-17T18:29:56.840Z"
      },
      {
        "duration": 8,
        "start_time": "2024-04-17T18:30:01.449Z"
      },
      {
        "duration": 9,
        "start_time": "2024-04-17T18:30:11.139Z"
      },
      {
        "duration": 19,
        "start_time": "2024-04-17T18:34:22.987Z"
      },
      {
        "duration": 13,
        "start_time": "2024-04-17T18:34:49.683Z"
      },
      {
        "duration": 6,
        "start_time": "2024-04-17T18:34:54.944Z"
      },
      {
        "duration": 13,
        "start_time": "2024-04-17T18:35:12.866Z"
      },
      {
        "duration": 6,
        "start_time": "2024-04-17T18:35:16.698Z"
      },
      {
        "duration": 7,
        "start_time": "2024-04-17T18:35:28.842Z"
      },
      {
        "duration": 7,
        "start_time": "2024-04-17T18:37:05.853Z"
      },
      {
        "duration": 14,
        "start_time": "2024-04-17T18:37:16.240Z"
      },
      {
        "duration": 7,
        "start_time": "2024-04-17T18:37:34.783Z"
      },
      {
        "duration": 6,
        "start_time": "2024-04-17T18:37:40.207Z"
      },
      {
        "duration": 7,
        "start_time": "2024-04-17T18:37:43.029Z"
      },
      {
        "duration": 12,
        "start_time": "2024-04-17T18:47:02.436Z"
      },
      {
        "duration": 11,
        "start_time": "2024-04-17T18:48:16.213Z"
      },
      {
        "duration": 12,
        "start_time": "2024-04-17T18:48:23.167Z"
      },
      {
        "duration": 12,
        "start_time": "2024-04-17T18:48:37.009Z"
      },
      {
        "duration": 7,
        "start_time": "2024-04-17T18:52:04.696Z"
      },
      {
        "duration": 6,
        "start_time": "2024-04-17T18:52:11.590Z"
      },
      {
        "duration": 13,
        "start_time": "2024-04-17T18:52:18.986Z"
      },
      {
        "duration": 4,
        "start_time": "2024-04-17T18:52:40.389Z"
      },
      {
        "duration": 4,
        "start_time": "2024-04-17T18:53:11.639Z"
      },
      {
        "duration": 5,
        "start_time": "2024-04-17T18:53:19.748Z"
      },
      {
        "duration": 5,
        "start_time": "2024-04-17T18:53:23.639Z"
      },
      {
        "duration": 7,
        "start_time": "2024-04-17T18:54:33.182Z"
      },
      {
        "duration": 11,
        "start_time": "2024-04-17T18:54:46.896Z"
      },
      {
        "duration": 4,
        "start_time": "2024-04-17T18:55:16.524Z"
      },
      {
        "duration": 11,
        "start_time": "2024-04-17T18:56:34.140Z"
      },
      {
        "duration": 11,
        "start_time": "2024-04-17T18:57:59.243Z"
      },
      {
        "duration": 4,
        "start_time": "2024-04-17T18:58:07.728Z"
      },
      {
        "duration": 4,
        "start_time": "2024-04-17T18:58:17.345Z"
      },
      {
        "duration": 5,
        "start_time": "2024-04-17T18:58:20.577Z"
      },
      {
        "duration": 29,
        "start_time": "2024-04-17T18:58:32.375Z"
      },
      {
        "duration": 29,
        "start_time": "2024-04-17T18:58:35.094Z"
      },
      {
        "duration": 41691,
        "start_time": "2024-04-17T19:03:00.637Z"
      },
      {
        "duration": 142818,
        "start_time": "2024-04-17T19:03:51.714Z"
      },
      {
        "duration": 0,
        "start_time": "2024-04-17T19:06:14.533Z"
      },
      {
        "duration": 14,
        "start_time": "2024-04-17T19:06:17.710Z"
      },
      {
        "duration": 7,
        "start_time": "2024-04-17T19:06:26.694Z"
      },
      {
        "duration": 28,
        "start_time": "2024-04-17T19:06:50.389Z"
      },
      {
        "duration": 9,
        "start_time": "2024-04-17T19:06:58.022Z"
      },
      {
        "duration": 8,
        "start_time": "2024-04-17T19:07:07.443Z"
      },
      {
        "duration": 3,
        "start_time": "2024-04-17T19:07:37.262Z"
      },
      {
        "duration": 5,
        "start_time": "2024-04-17T19:07:49.799Z"
      },
      {
        "duration": 6,
        "start_time": "2024-04-17T19:07:57.619Z"
      },
      {
        "duration": 36,
        "start_time": "2024-04-17T19:10:02.375Z"
      },
      {
        "duration": 42,
        "start_time": "2024-04-17T19:10:39.811Z"
      },
      {
        "duration": 6,
        "start_time": "2024-04-17T19:12:15.586Z"
      },
      {
        "duration": 4,
        "start_time": "2024-04-17T19:19:56.836Z"
      },
      {
        "duration": 13,
        "start_time": "2024-04-17T19:23:54.954Z"
      },
      {
        "duration": 13,
        "start_time": "2024-04-17T19:24:59.827Z"
      },
      {
        "duration": 16,
        "start_time": "2024-04-17T19:25:08.009Z"
      },
      {
        "duration": 13,
        "start_time": "2024-04-17T19:25:56.913Z"
      },
      {
        "duration": 11,
        "start_time": "2024-04-17T19:53:27.967Z"
      },
      {
        "duration": 1389,
        "start_time": "2024-04-17T19:56:38.937Z"
      },
      {
        "duration": 410,
        "start_time": "2024-04-17T19:56:40.328Z"
      },
      {
        "duration": 71,
        "start_time": "2024-04-17T19:56:40.739Z"
      },
      {
        "duration": 156,
        "start_time": "2024-04-17T19:56:40.812Z"
      },
      {
        "duration": 49,
        "start_time": "2024-04-17T19:56:40.970Z"
      },
      {
        "duration": 29,
        "start_time": "2024-04-17T19:56:41.021Z"
      },
      {
        "duration": 50,
        "start_time": "2024-04-17T19:56:41.052Z"
      },
      {
        "duration": 12,
        "start_time": "2024-04-17T19:56:41.104Z"
      },
      {
        "duration": 4131,
        "start_time": "2024-04-17T19:56:41.117Z"
      },
      {
        "duration": 11,
        "start_time": "2024-04-17T19:56:45.249Z"
      },
      {
        "duration": 1405,
        "start_time": "2024-04-17T19:56:45.262Z"
      },
      {
        "duration": 662,
        "start_time": "2024-04-17T19:56:46.669Z"
      },
      {
        "duration": 14,
        "start_time": "2024-04-17T19:56:47.333Z"
      },
      {
        "duration": 4,
        "start_time": "2024-04-17T19:56:47.350Z"
      },
      {
        "duration": 4,
        "start_time": "2024-04-17T19:56:47.356Z"
      },
      {
        "duration": 48,
        "start_time": "2024-04-17T19:56:47.361Z"
      },
      {
        "duration": 82,
        "start_time": "2024-04-17T19:56:47.411Z"
      },
      {
        "duration": 696,
        "start_time": "2024-04-17T19:56:47.496Z"
      },
      {
        "duration": 98,
        "start_time": "2024-04-17T19:56:48.193Z"
      },
      {
        "duration": 6,
        "start_time": "2024-04-17T19:56:48.294Z"
      },
      {
        "duration": 793,
        "start_time": "2024-04-17T19:56:48.301Z"
      },
      {
        "duration": 100,
        "start_time": "2024-04-17T19:56:49.096Z"
      },
      {
        "duration": 94,
        "start_time": "2024-04-17T19:56:49.198Z"
      },
      {
        "duration": 548,
        "start_time": "2024-04-17T19:56:49.293Z"
      },
      {
        "duration": 133,
        "start_time": "2024-04-17T19:56:49.843Z"
      },
      {
        "duration": 30,
        "start_time": "2024-04-17T19:56:49.978Z"
      },
      {
        "duration": 54,
        "start_time": "2024-04-17T19:56:50.010Z"
      },
      {
        "duration": 21,
        "start_time": "2024-04-17T19:56:50.066Z"
      },
      {
        "duration": 38,
        "start_time": "2024-04-17T19:56:50.089Z"
      },
      {
        "duration": 39,
        "start_time": "2024-04-17T19:56:50.129Z"
      },
      {
        "duration": 12,
        "start_time": "2024-04-17T19:56:50.170Z"
      },
      {
        "duration": 3965,
        "start_time": "2024-04-17T19:56:50.184Z"
      },
      {
        "duration": 789,
        "start_time": "2024-04-17T19:56:54.151Z"
      },
      {
        "duration": 5,
        "start_time": "2024-04-17T19:56:54.942Z"
      },
      {
        "duration": 23,
        "start_time": "2024-04-17T19:56:54.948Z"
      },
      {
        "duration": 50,
        "start_time": "2024-04-17T19:56:54.973Z"
      },
      {
        "duration": 14,
        "start_time": "2024-04-17T19:56:55.025Z"
      },
      {
        "duration": 26,
        "start_time": "2024-04-17T19:56:55.041Z"
      },
      {
        "duration": 57,
        "start_time": "2024-04-17T21:05:48.425Z"
      },
      {
        "duration": 47,
        "start_time": "2024-04-19T17:48:26.630Z"
      },
      {
        "duration": 1579,
        "start_time": "2024-04-19T17:48:38.060Z"
      },
      {
        "duration": 719,
        "start_time": "2024-04-19T17:48:39.641Z"
      },
      {
        "duration": 77,
        "start_time": "2024-04-19T17:48:40.363Z"
      },
      {
        "duration": 148,
        "start_time": "2024-04-19T17:48:40.442Z"
      },
      {
        "duration": 40,
        "start_time": "2024-04-19T17:48:40.591Z"
      },
      {
        "duration": 41,
        "start_time": "2024-04-19T17:48:40.632Z"
      },
      {
        "duration": 35,
        "start_time": "2024-04-19T17:48:40.674Z"
      },
      {
        "duration": 28,
        "start_time": "2024-04-19T17:48:40.711Z"
      },
      {
        "duration": 4215,
        "start_time": "2024-04-19T17:48:40.741Z"
      },
      {
        "duration": 12,
        "start_time": "2024-04-19T17:48:44.959Z"
      },
      {
        "duration": 1221,
        "start_time": "2024-04-19T17:48:44.973Z"
      },
      {
        "duration": 674,
        "start_time": "2024-04-19T17:48:46.195Z"
      },
      {
        "duration": 18,
        "start_time": "2024-04-19T17:48:46.871Z"
      },
      {
        "duration": 5,
        "start_time": "2024-04-19T17:48:46.891Z"
      },
      {
        "duration": 13,
        "start_time": "2024-04-19T17:48:46.897Z"
      },
      {
        "duration": 73,
        "start_time": "2024-04-19T17:48:46.912Z"
      },
      {
        "duration": 91,
        "start_time": "2024-04-19T17:48:46.991Z"
      },
      {
        "duration": 552,
        "start_time": "2024-04-19T17:48:47.084Z"
      },
      {
        "duration": 46,
        "start_time": "2024-04-19T17:48:47.638Z"
      },
      {
        "duration": 6,
        "start_time": "2024-04-19T17:48:47.686Z"
      },
      {
        "duration": 845,
        "start_time": "2024-04-19T17:48:47.694Z"
      },
      {
        "duration": 51,
        "start_time": "2024-04-19T17:48:48.542Z"
      },
      {
        "duration": 88,
        "start_time": "2024-04-19T17:48:48.595Z"
      },
      {
        "duration": 600,
        "start_time": "2024-04-19T17:48:48.686Z"
      },
      {
        "duration": 140,
        "start_time": "2024-04-19T17:48:49.288Z"
      },
      {
        "duration": 4,
        "start_time": "2024-04-19T17:49:05.716Z"
      },
      {
        "duration": 3,
        "start_time": "2024-04-19T17:50:31.542Z"
      },
      {
        "duration": 4,
        "start_time": "2024-04-19T17:50:50.848Z"
      },
      {
        "duration": 4,
        "start_time": "2024-04-19T17:50:59.074Z"
      },
      {
        "duration": 3,
        "start_time": "2024-04-19T17:51:54.937Z"
      },
      {
        "duration": 18,
        "start_time": "2024-04-19T17:52:04.043Z"
      },
      {
        "duration": 3,
        "start_time": "2024-04-19T17:52:18.583Z"
      },
      {
        "duration": 3918,
        "start_time": "2024-04-19T17:52:26.368Z"
      },
      {
        "duration": 779,
        "start_time": "2024-04-19T17:52:33.924Z"
      },
      {
        "duration": 4,
        "start_time": "2024-04-19T17:52:44.747Z"
      },
      {
        "duration": 9,
        "start_time": "2024-04-19T18:03:01.075Z"
      },
      {
        "duration": 8,
        "start_time": "2024-04-19T18:03:43.222Z"
      },
      {
        "duration": 9,
        "start_time": "2024-04-19T18:03:49.797Z"
      },
      {
        "duration": 6,
        "start_time": "2024-04-19T18:04:15.549Z"
      },
      {
        "duration": 10,
        "start_time": "2024-04-19T18:05:16.616Z"
      },
      {
        "duration": 5,
        "start_time": "2024-04-19T18:09:14.034Z"
      },
      {
        "duration": 3,
        "start_time": "2024-04-19T18:09:26.109Z"
      },
      {
        "duration": 4,
        "start_time": "2024-04-19T18:09:35.289Z"
      },
      {
        "duration": 6,
        "start_time": "2024-04-19T18:10:26.845Z"
      },
      {
        "duration": 5,
        "start_time": "2024-04-19T18:11:55.865Z"
      },
      {
        "duration": 4,
        "start_time": "2024-04-19T18:12:04.526Z"
      },
      {
        "duration": 4,
        "start_time": "2024-04-19T18:12:08.233Z"
      },
      {
        "duration": 3,
        "start_time": "2024-04-19T18:13:00.922Z"
      },
      {
        "duration": 4,
        "start_time": "2024-04-19T18:13:31.914Z"
      },
      {
        "duration": 57,
        "start_time": "2024-04-19T18:17:55.821Z"
      },
      {
        "duration": 36,
        "start_time": "2024-04-19T18:21:44.983Z"
      },
      {
        "duration": 37,
        "start_time": "2024-04-19T18:25:17.136Z"
      },
      {
        "duration": 3,
        "start_time": "2024-04-19T18:25:34.575Z"
      },
      {
        "duration": 5,
        "start_time": "2024-04-19T18:25:39.355Z"
      },
      {
        "duration": 6,
        "start_time": "2024-04-19T18:25:55.181Z"
      },
      {
        "duration": 12,
        "start_time": "2024-04-19T18:31:07.245Z"
      },
      {
        "duration": 13,
        "start_time": "2024-04-19T18:31:25.404Z"
      },
      {
        "duration": 12,
        "start_time": "2024-04-19T18:33:23.177Z"
      },
      {
        "duration": 8,
        "start_time": "2024-04-19T18:33:33.449Z"
      },
      {
        "duration": 1276,
        "start_time": "2024-04-19T18:45:17.640Z"
      },
      {
        "duration": 424,
        "start_time": "2024-04-19T18:45:18.918Z"
      },
      {
        "duration": 64,
        "start_time": "2024-04-19T18:45:19.344Z"
      },
      {
        "duration": 128,
        "start_time": "2024-04-19T18:45:19.410Z"
      },
      {
        "duration": 43,
        "start_time": "2024-04-19T18:45:19.540Z"
      },
      {
        "duration": 40,
        "start_time": "2024-04-19T18:45:19.584Z"
      },
      {
        "duration": 29,
        "start_time": "2024-04-19T18:45:19.626Z"
      },
      {
        "duration": 27,
        "start_time": "2024-04-19T18:45:19.656Z"
      },
      {
        "duration": 4123,
        "start_time": "2024-04-19T18:45:19.685Z"
      },
      {
        "duration": 11,
        "start_time": "2024-04-19T18:45:23.811Z"
      },
      {
        "duration": 1230,
        "start_time": "2024-04-19T18:45:23.823Z"
      },
      {
        "duration": 690,
        "start_time": "2024-04-19T18:45:25.055Z"
      },
      {
        "duration": 14,
        "start_time": "2024-04-19T18:45:25.746Z"
      },
      {
        "duration": 4,
        "start_time": "2024-04-19T18:45:25.761Z"
      },
      {
        "duration": 16,
        "start_time": "2024-04-19T18:45:25.766Z"
      },
      {
        "duration": 100,
        "start_time": "2024-04-19T18:45:25.783Z"
      },
      {
        "duration": 8,
        "start_time": "2024-04-19T18:45:25.885Z"
      },
      {
        "duration": 549,
        "start_time": "2024-04-19T18:45:25.981Z"
      },
      {
        "duration": 52,
        "start_time": "2024-04-19T18:45:26.532Z"
      },
      {
        "duration": 6,
        "start_time": "2024-04-19T18:45:26.586Z"
      },
      {
        "duration": 676,
        "start_time": "2024-04-19T18:45:26.683Z"
      },
      {
        "duration": 38,
        "start_time": "2024-04-19T18:45:27.360Z"
      },
      {
        "duration": 82,
        "start_time": "2024-04-19T18:45:27.400Z"
      },
      {
        "duration": 650,
        "start_time": "2024-04-19T18:45:27.485Z"
      },
      {
        "duration": 145,
        "start_time": "2024-04-19T18:45:28.137Z"
      },
      {
        "duration": 4,
        "start_time": "2024-04-19T18:45:28.283Z"
      },
      {
        "duration": 20,
        "start_time": "2024-04-19T18:45:28.288Z"
      },
      {
        "duration": 7,
        "start_time": "2024-04-19T18:45:28.311Z"
      },
      {
        "duration": 13,
        "start_time": "2024-04-19T18:45:28.319Z"
      },
      {
        "duration": 20,
        "start_time": "2024-04-19T18:45:28.334Z"
      },
      {
        "duration": 2,
        "start_time": "2024-04-19T18:45:28.356Z"
      },
      {
        "duration": 3865,
        "start_time": "2024-04-19T18:45:28.360Z"
      },
      {
        "duration": 795,
        "start_time": "2024-04-19T18:45:32.226Z"
      },
      {
        "duration": 5,
        "start_time": "2024-04-19T18:45:33.022Z"
      },
      {
        "duration": 12,
        "start_time": "2024-04-19T18:45:33.029Z"
      },
      {
        "duration": 49,
        "start_time": "2024-04-19T18:45:33.042Z"
      },
      {
        "duration": 3,
        "start_time": "2024-04-19T18:45:33.093Z"
      },
      {
        "duration": 6,
        "start_time": "2024-04-19T18:45:33.098Z"
      },
      {
        "duration": 15,
        "start_time": "2024-04-19T18:45:33.106Z"
      },
      {
        "duration": 28,
        "start_time": "2024-04-19T18:45:33.123Z"
      },
      {
        "duration": 1123,
        "start_time": "2024-04-19T20:27:32.191Z"
      },
      {
        "duration": 566,
        "start_time": "2024-04-19T20:27:33.316Z"
      },
      {
        "duration": 48,
        "start_time": "2024-04-19T20:27:33.883Z"
      },
      {
        "duration": 110,
        "start_time": "2024-04-19T20:27:33.933Z"
      },
      {
        "duration": 34,
        "start_time": "2024-04-19T20:27:34.044Z"
      },
      {
        "duration": 34,
        "start_time": "2024-04-19T20:27:34.080Z"
      },
      {
        "duration": 22,
        "start_time": "2024-04-19T20:27:34.115Z"
      },
      {
        "duration": 14,
        "start_time": "2024-04-19T20:27:34.139Z"
      },
      {
        "duration": 3253,
        "start_time": "2024-04-19T20:27:34.155Z"
      },
      {
        "duration": 9,
        "start_time": "2024-04-19T20:27:37.409Z"
      },
      {
        "duration": 1008,
        "start_time": "2024-04-19T20:27:37.420Z"
      },
      {
        "duration": 577,
        "start_time": "2024-04-19T20:27:38.429Z"
      },
      {
        "duration": 10,
        "start_time": "2024-04-19T20:27:39.008Z"
      },
      {
        "duration": 104,
        "start_time": "2024-04-19T20:27:39.021Z"
      },
      {
        "duration": 55,
        "start_time": "2024-04-19T20:27:39.127Z"
      },
      {
        "duration": 119,
        "start_time": "2024-04-19T20:27:39.183Z"
      },
      {
        "duration": 4,
        "start_time": "2024-04-19T20:27:39.304Z"
      },
      {
        "duration": 515,
        "start_time": "2024-04-19T20:27:39.310Z"
      },
      {
        "duration": 21,
        "start_time": "2024-04-19T20:27:39.826Z"
      },
      {
        "duration": 6,
        "start_time": "2024-04-19T20:27:39.904Z"
      },
      {
        "duration": 550,
        "start_time": "2024-04-19T20:27:40.002Z"
      },
      {
        "duration": 49,
        "start_time": "2024-04-19T20:27:40.554Z"
      },
      {
        "duration": 3,
        "start_time": "2024-04-19T20:27:40.605Z"
      },
      {
        "duration": 544,
        "start_time": "2024-04-19T20:27:40.609Z"
      },
      {
        "duration": 31,
        "start_time": "2024-04-19T20:27:41.154Z"
      },
      {
        "duration": 7,
        "start_time": "2024-04-19T20:27:41.186Z"
      },
      {
        "duration": 10,
        "start_time": "2024-04-19T20:27:41.194Z"
      },
      {
        "duration": 17,
        "start_time": "2024-04-19T20:27:41.205Z"
      },
      {
        "duration": 11,
        "start_time": "2024-04-19T20:27:41.223Z"
      },
      {
        "duration": 17,
        "start_time": "2024-04-19T20:27:41.235Z"
      },
      {
        "duration": 3,
        "start_time": "2024-04-19T20:27:41.253Z"
      },
      {
        "duration": 2889,
        "start_time": "2024-04-19T20:27:41.257Z"
      },
      {
        "duration": 692,
        "start_time": "2024-04-19T20:27:44.148Z"
      },
      {
        "duration": 4,
        "start_time": "2024-04-19T20:27:44.841Z"
      },
      {
        "duration": 11,
        "start_time": "2024-04-19T20:27:44.847Z"
      },
      {
        "duration": 24,
        "start_time": "2024-04-19T20:27:44.860Z"
      },
      {
        "duration": 3,
        "start_time": "2024-04-19T20:27:44.902Z"
      },
      {
        "duration": 17,
        "start_time": "2024-04-19T20:27:44.907Z"
      },
      {
        "duration": 10,
        "start_time": "2024-04-19T20:27:44.926Z"
      },
      {
        "duration": 24,
        "start_time": "2024-04-19T20:27:44.938Z"
      },
      {
        "duration": 5,
        "start_time": "2024-04-19T20:28:56.096Z"
      },
      {
        "duration": 3,
        "start_time": "2024-04-19T20:29:01.716Z"
      },
      {
        "duration": 3,
        "start_time": "2024-04-19T20:29:03.568Z"
      },
      {
        "duration": 24,
        "start_time": "2024-04-19T20:29:23.820Z"
      },
      {
        "duration": 23,
        "start_time": "2024-04-19T20:29:26.207Z"
      },
      {
        "duration": 3157,
        "start_time": "2024-04-19T20:29:27.672Z"
      },
      {
        "duration": 25,
        "start_time": "2024-04-19T20:29:31.382Z"
      },
      {
        "duration": 52,
        "start_time": "2024-04-19T20:29:48.894Z"
      },
      {
        "duration": 30,
        "start_time": "2024-04-19T20:29:58.822Z"
      },
      {
        "duration": 3,
        "start_time": "2024-04-19T20:30:03.243Z"
      },
      {
        "duration": 30,
        "start_time": "2024-04-19T20:30:04.808Z"
      },
      {
        "duration": 23,
        "start_time": "2024-04-19T20:30:06.622Z"
      },
      {
        "duration": 23,
        "start_time": "2024-04-19T20:30:08.552Z"
      },
      {
        "duration": 25,
        "start_time": "2024-04-19T20:30:10.513Z"
      },
      {
        "duration": 26,
        "start_time": "2024-04-19T20:30:13.664Z"
      },
      {
        "duration": 24,
        "start_time": "2024-04-19T20:30:21.294Z"
      },
      {
        "duration": 24,
        "start_time": "2024-04-19T20:30:24.863Z"
      },
      {
        "duration": 24,
        "start_time": "2024-04-19T20:30:27.904Z"
      },
      {
        "duration": 24,
        "start_time": "2024-04-19T20:31:07.486Z"
      }
    ],
    "kernelspec": {
      "display_name": "Python 3 (ipykernel)",
      "language": "python",
      "name": "python3"
    },
    "language_info": {
      "codemirror_mode": {
        "name": "ipython",
        "version": 3
      },
      "file_extension": ".py",
      "mimetype": "text/x-python",
      "name": "python",
      "nbconvert_exporter": "python",
      "pygments_lexer": "ipython3",
      "version": "3.9.5"
    },
    "toc": {
      "base_numbering": 1,
      "nav_menu": {},
      "number_sections": false,
      "sideBar": true,
      "skip_h1_title": false,
      "title_cell": "Table of Contents",
      "title_sidebar": "Contents",
      "toc_cell": false,
      "toc_position": {
        "height": "calc(100% - 180px)",
        "left": "10px",
        "top": "150px",
        "width": "373.316px"
      },
      "toc_section_display": true,
      "toc_window_display": true
    },
    "colab": {
      "provenance": [],
      "toc_visible": true
    }
  },
  "nbformat": 4,
  "nbformat_minor": 0
}